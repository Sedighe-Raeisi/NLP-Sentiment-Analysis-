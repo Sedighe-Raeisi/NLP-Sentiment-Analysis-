{
  "cells": [
    {
      "cell_type": "markdown",
      "metadata": {
        "id": "view-in-github",
        "colab_type": "text"
      },
      "source": [
        "<a href=\"https://colab.research.google.com/github/Sedighe-Raeisi/NLP-Sentiment-Analysis-/blob/main/1_Tweet_Sentiment_Prertrained_Glove.ipynb\" target=\"_parent\"><img src=\"https://colab.research.google.com/assets/colab-badge.svg\" alt=\"Open In Colab\"/></a>"
      ]
    },
    {
      "cell_type": "code",
      "execution_count": null,
      "metadata": {
        "id": "pn1YTc6Nu52d"
      },
      "outputs": [],
      "source": [
        "import pandas as pd\n",
        "import numpy as np\n",
        "import matplotlib.pyplot as plt\n",
        "import seaborn as sn\n"
      ]
    },
    {
      "cell_type": "code",
      "execution_count": null,
      "metadata": {
        "id": "U9zmcExRNqf2"
      },
      "outputs": [],
      "source": [
        "path='/content/drive/MyDrive/MachineLearning/NLP/training.1600000.processed.noemoticon.csv'\n",
        "df=pd.read_csv(path)"
      ]
    },
    {
      "cell_type": "code",
      "execution_count": null,
      "metadata": {
        "id": "Zk0Ku5MdOO7B"
      },
      "outputs": [],
      "source": [
        "neg=len(df[df['sentiment']=='negative'])\n",
        "pos=len(df[df['sentiment']=='positive'])"
      ]
    },
    {
      "cell_type": "code",
      "execution_count": null,
      "metadata": {
        "colab": {
          "base_uri": "https://localhost:8080/",
          "height": 248
        },
        "id": "xlqrjW43Nwpr",
        "outputId": "15d6aa8a-5827-4214-b494-eda40ed060e2"
      },
      "outputs": [
        {
          "data": {
            "image/png": "[encoded data removed]",
            "text/plain": [
              "<Figure size 432x288 with 1 Axes>"
            ]
          },
          "metadata": {},
          "output_type": "display_data"
        }
      ],
      "source": [
        "plt.pie([neg,pos],labels=['negative tweets','positive tweets'], autopct='%2.1f%%');"
      ]
    },
    {
      "cell_type": "markdown",
      "metadata": {
        "id": "MMA6t9t-5rFA"
      },
      "source": [
        "#Importing data from link:\n",
        "https://www.kaggle.com/kazanova/sentiment140"
      ]
    },
    {
      "cell_type": "code",
      "execution_count": null,
      "metadata": {
        "id": "7JOaLyf2w8pT"
      },
      "outputs": [],
      "source": [
        "!pip install kaggle"
      ]
    },
    {
      "cell_type": "code",
      "execution_count": null,
      "metadata": {
        "id": "63cUUvuKxWa9"
      },
      "outputs": [],
      "source": [
        "!mkdir  -p /root/.kaggle/"
      ]
    },
    {
      "cell_type": "code",
      "execution_count": null,
      "metadata": {
        "id": "UyE7a-V_yD2k"
      },
      "outputs": [],
      "source": [
        "!cp /content/drive/MyDrive/MachineLearning/kaggle.json -r /root/.kaggle/"
      ]
    },
    {
      "cell_type": "code",
      "execution_count": null,
      "metadata": {
        "id": "tZopI2n2yO7H"
      },
      "outputs": [],
      "source": [
        "!chmod 600 ~ /root/.kaggle/kaggle.json"
      ]
    },
    {
      "cell_type": "code",
      "execution_count": null,
      "metadata": {
        "id": "sWhWKAGZzSWY"
      },
      "outputs": [],
      "source": [
        "! kaggle datasets list"
      ]
    },
    {
      "cell_type": "code",
      "execution_count": null,
      "metadata": {
        "colab": {
          "base_uri": "https://localhost:8080/"
        },
        "id": "WWGEgWdgw6kx",
        "outputId": "aabc97fd-d469-4c8e-eba9-83a29c71b051"
      },
      "outputs": [
        {
          "name": "stdout",
          "output_type": "stream",
          "text": [
            "Downloading sentiment140.zip to /content\n",
            " 96% 78.0M/80.9M [00:00<00:00, 151MB/s]\n",
            "100% 80.9M/80.9M [00:00<00:00, 149MB/s]\n"
          ]
        }
      ],
      "source": [
        "!kaggle datasets download -d kazanova/sentiment140"
      ]
    },
    {
      "cell_type": "code",
      "execution_count": null,
      "metadata": {
        "id": "KrftmvH5y0qw"
      },
      "outputs": [],
      "source": [
        "!cp /content/sentiment140.zip -r /content/drive/MyDrive/MachineLearning/NLP"
      ]
    },
    {
      "cell_type": "code",
      "execution_count": null,
      "metadata": {
        "colab": {
          "base_uri": "https://localhost:8080/"
        },
        "id": "W73TLnr-0wqA",
        "outputId": "a9fcfe13-6f23-4cc1-caf1-5e9fb6b6438a"
      },
      "outputs": [
        {
          "name": "stdout",
          "output_type": "stream",
          "text": [
            "Archive:  /content/drive/MyDrive/MachineLearning/NLP/sentiment140.zip\n",
            "  inflating: /content/drive/MyDrive/MachineLearning/NLP/training.1600000.processed.noemoticon.csv  \n"
          ]
        }
      ],
      "source": [
        "!unzip /content/drive/MyDrive/MachineLearning/NLP/sentiment140.zip -d /content/drive/MyDrive/MachineLearning/NLP"
      ]
    },
    {
      "cell_type": "markdown",
      "metadata": {
        "id": "QO8UYjGE6DhI"
      },
      "source": [
        "##Preparing the dataframe"
      ]
    },
    {
      "cell_type": "code",
      "execution_count": null,
      "metadata": {
        "id": "LpS8A3uz01VR"
      },
      "outputs": [],
      "source": [
        "path='/content/drive/MyDrive/MachineLearning/NLP/training.1600000.processed.noemoticon.csv'\n",
        "data=pd.read_csv(path\n",
        "               ,encoding='latin-1'\n",
        "               )"
      ]
    },
    {
      "cell_type": "code",
      "execution_count": null,
      "metadata": {
        "colab": {
          "base_uri": "https://localhost:8080/"
        },
        "id": "GxKnLpPI7ar3",
        "outputId": "d46df817-3e96-44d5-8b80-a7fd309c6380"
      },
      "outputs": [
        {
          "data": {
            "text/plain": [
              "Index(['Unnamed: 0', 'sentiment', 'tweet', 'clean'], dtype='object')"
            ]
          },
          "execution_count": 3,
          "metadata": {},
          "output_type": "execute_result"
        }
      ],
      "source": [
        "data.columns"
      ]
    },
    {
      "cell_type": "code",
      "execution_count": null,
      "metadata": {
        "id": "B_Zhd7eq73k2"
      },
      "outputs": [],
      "source": [
        "set(data['0'])"
      ]
    },
    {
      "cell_type": "code",
      "execution_count": null,
      "metadata": {
        "id": "NeZGSIF_2H3A"
      },
      "outputs": [],
      "source": [
        "df=pd.DataFrame()"
      ]
    },
    {
      "cell_type": "code",
      "execution_count": null,
      "metadata": {
        "id": "Lc3dEq5d6tjr"
      },
      "outputs": [],
      "source": [
        "def sentiment(x):\n",
        "  if x==4:\n",
        "    return 'positive'\n",
        "  elif x==0:\n",
        "    return 'negative'"
      ]
    },
    {
      "cell_type": "code",
      "execution_count": null,
      "metadata": {
        "id": "ziwJQEg34sdf"
      },
      "outputs": [],
      "source": [
        "df['sentiment']=data['0'].apply(lambda x: sentiment(x) )"
      ]
    },
    {
      "cell_type": "code",
      "execution_count": null,
      "metadata": {
        "id": "g8cl_-0p41b4"
      },
      "outputs": [],
      "source": [
        "df['tweet']=data.iloc[:,5]"
      ]
    },
    {
      "cell_type": "code",
      "execution_count": null,
      "metadata": {
        "id": "AA-DiqFQ29VR"
      },
      "outputs": [],
      "source": [
        "del data"
      ]
    },
    {
      "cell_type": "code",
      "execution_count": null,
      "metadata": {
        "id": "FlReHbsG3MzA"
      },
      "outputs": [],
      "source": [
        "df.head(2)"
      ]
    },
    {
      "cell_type": "code",
      "execution_count": null,
      "metadata": {
        "id": "S3xmf4hU5Bfu"
      },
      "outputs": [],
      "source": [
        "df.isnull().sum()"
      ]
    },
    {
      "cell_type": "code",
      "execution_count": null,
      "metadata": {
        "id": "GkeeYumb5GYj"
      },
      "outputs": [],
      "source": [
        "(set(df['sentiment']))"
      ]
    },
    {
      "cell_type": "markdown",
      "metadata": {
        "id": "AQTDoFRk8K5a"
      },
      "source": [
        "#Preprocessing:"
      ]
    },
    {
      "cell_type": "markdown",
      "metadata": {
        "id": "plbGOqPw9Sk7"
      },
      "source": [
        "\n",
        "##Preprocessing Tweets:"
      ]
    },
    {
      "cell_type": "code",
      "execution_count": null,
      "metadata": {
        "colab": {
          "base_uri": "https://localhost:8080/"
        },
        "id": "ojuBi3eIuRIn",
        "outputId": "b9ef00b2-27c0-46a1-b177-63f6b689ef53"
      },
      "outputs": [
        {
          "data": {
            "text/html": [
              "<div>\n",
              "<style scoped>\n",
              "    .dataframe tbody tr th:only-of-type {\n",
              "        vertical-align: middle;\n",
              "    }\n",
              "\n",
              "    .dataframe tbody tr th {\n",
              "        vertical-align: top;\n",
              "    }\n",
              "\n",
              "    .dataframe thead th {\n",
              "        text-align: right;\n",
              "    }\n",
              "</style>\n",
              "<table border=\"1\" class=\"dataframe\">\n",
              "  <thead>\n",
              "    <tr style=\"text-align: right;\">\n",
              "      <th></th>\n",
              "      <th>sentiment</th>\n",
              "      <th>tweet</th>\n",
              "    </tr>\n",
              "  </thead>\n",
              "  <tbody>\n",
              "    <tr>\n",
              "      <th>0</th>\n",
              "      <td>negative</td>\n",
              "      <td>is upset that he can't update his Facebook by ...</td>\n",
              "    </tr>\n",
              "    <tr>\n",
              "      <th>1</th>\n",
              "      <td>negative</td>\n",
              "      <td>@Kenichan I dived many times for the ball. Man...</td>\n",
              "    </tr>\n",
              "    <tr>\n",
              "      <th>2</th>\n",
              "      <td>negative</td>\n",
              "      <td>my whole body feels itchy and like its on fire</td>\n",
              "    </tr>\n",
              "    <tr>\n",
              "      <th>3</th>\n",
              "      <td>negative</td>\n",
              "      <td>@nationwideclass no, it's not behaving at all....</td>\n",
              "    </tr>\n",
              "    <tr>\n",
              "      <th>4</th>\n",
              "      <td>negative</td>\n",
              "      <td>@Kwesidei not the whole crew</td>\n",
              "    </tr>\n",
              "  </tbody>\n",
              "</table>\n",
              "</div>"
            ],
            "text/plain": [
              "  sentiment                                              tweet\n",
              "0  negative  is upset that he can't update his Facebook by ...\n",
              "1  negative  @Kenichan I dived many times for the ball. Man...\n",
              "2  negative    my whole body feels itchy and like its on fire \n",
              "3  negative  @nationwideclass no, it's not behaving at all....\n",
              "4  negative                      @Kwesidei not the whole crew "
            ]
          },
          "execution_count": 21,
          "metadata": {},
          "output_type": "execute_result"
        }
      ],
      "source": [
        "df.head()"
      ]
    },
    {
      "cell_type": "code",
      "execution_count": null,
      "metadata": {
        "id": "LLYdL3spzOUn"
      },
      "outputs": [],
      "source": [
        "import nltk\n",
        "from nltk.tokenize import RegexpTokenizer\n",
        "from nltk.stem import WordNetLemmatizer,PorterStemmer\n",
        "from nltk.corpus import stopwords\n",
        "import re"
      ]
    },
    {
      "cell_type": "code",
      "execution_count": null,
      "metadata": {
        "id": "QCAkPPAzzI_y"
      },
      "outputs": [],
      "source": [
        "\n",
        "lemmatizer = WordNetLemmatizer()\n",
        "stemmer = PorterStemmer() \n",
        "\n",
        "def preprocess(sentence):\n",
        "  sentence=str(sentence)\n",
        "  sentence = sentence.lower()\n",
        "  sentence=sentence.replace('{html}',\"\") \n",
        "  sentence=sentence.replace('{@}',\"\")\n",
        "  cleanr = re.compile('<.*?>')\n",
        "  cleantext = re.sub(cleanr, '', sentence)\n",
        "  rem_url=re.sub(r'http\\S+', '',cleantext)\n",
        "  rem_num = re.sub('[0-9]+', '', rem_url)\n",
        "  tokenizer = RegexpTokenizer(r'\\w+')\n",
        "  tokens = tokenizer.tokenize(rem_num)  \n",
        "  filtered_words = [w for w in tokens if len(w) > 2 if not w in stopwords.words('english')]\n",
        "  stem_words=[stemmer.stem(w) for w in filtered_words]\n",
        "  lemma_words=[lemmatizer.lemmatize(w) for w in stem_words]\n",
        "  return \" \".join(filtered_words)"
      ]
    },
    {
      "cell_type": "code",
      "execution_count": null,
      "metadata": {
        "colab": {
          "base_uri": "https://localhost:8080/"
        },
        "id": "N21gxTq70RLx",
        "outputId": "cbd0a106-921c-491f-ad2b-bc801b631ca9"
      },
      "outputs": [
        {
          "name": "stdout",
          "output_type": "stream",
          "text": [
            "[nltk_data] Downloading package stopwords to /root/nltk_data...\n",
            "[nltk_data]   Unzipping corpora/stopwords.zip.\n",
            "[nltk_data] Downloading package wordnet to /root/nltk_data...\n",
            "[nltk_data]   Unzipping corpora/wordnet.zip.\n"
          ]
        },
        {
          "data": {
            "text/plain": [
              "True"
            ]
          },
          "execution_count": 17,
          "metadata": {},
          "output_type": "execute_result"
        }
      ],
      "source": [
        "nltk.download('stopwords')\n",
        "nltk.download('wordnet')"
      ]
    },
    {
      "cell_type": "code",
      "execution_count": null,
      "metadata": {
        "id": "8mRR6R6mzyNZ"
      },
      "outputs": [],
      "source": [
        "df['clean']=df['tweet'].apply(lambda x: preprocess(x))"
      ]
    },
    {
      "cell_type": "code",
      "execution_count": null,
      "metadata": {
        "id": "AFo5zzeVDi3y"
      },
      "outputs": [],
      "source": [
        "df.to_csv(path)"
      ]
    },
    {
      "cell_type": "code",
      "execution_count": null,
      "metadata": {
        "colab": {
          "base_uri": "https://localhost:8080/"
        },
        "id": "kNMpci43ez8P",
        "outputId": "74bab0d8-14e1-4cfa-9bfd-ebabd094ab1d"
      },
      "outputs": [
        {
          "data": {
            "text/plain": [
              "Unnamed: 0      0\n",
              "sentiment       0\n",
              "tweet           0\n",
              "clean         844\n",
              "dtype: int64"
            ]
          },
          "execution_count": 14,
          "metadata": {},
          "output_type": "execute_result"
        }
      ],
      "source": [
        "df.isnull().sum()"
      ]
    },
    {
      "cell_type": "code",
      "execution_count": null,
      "metadata": {
        "id": "rtE662iGYDqV"
      },
      "outputs": [],
      "source": [
        "path='/content/drive/MyDrive/MachineLearning/NLP/training.1600000.processed.noemoticon.csv'\n",
        "df=pd.read_csv(path)"
      ]
    },
    {
      "cell_type": "code",
      "execution_count": null,
      "metadata": {
        "colab": {
          "base_uri": "https://localhost:8080/"
        },
        "id": "D7iHq9vR4qzS",
        "outputId": "a7e44bb3-8ec2-421b-feaf-289577425447"
      },
      "outputs": [
        {
          "data": {
            "text/plain": [
              "Unnamed: 0      0\n",
              "sentiment       0\n",
              "tweet           0\n",
              "clean         844\n",
              "dtype: int64"
            ]
          },
          "execution_count": 5,
          "metadata": {},
          "output_type": "execute_result"
        }
      ],
      "source": [
        "df.isnull().sum()"
      ]
    },
    {
      "cell_type": "code",
      "execution_count": null,
      "metadata": {
        "id": "OwKqHPXC4x1H"
      },
      "outputs": [],
      "source": [
        "df.dropna(inplace=True)"
      ]
    },
    {
      "cell_type": "markdown",
      "metadata": {
        "id": "Ys4XJD4J8VWh"
      },
      "source": [
        "\n",
        "##Preprocessing labels"
      ]
    },
    {
      "cell_type": "code",
      "execution_count": null,
      "metadata": {
        "id": "scu8cpmye6Ui"
      },
      "outputs": [],
      "source": [
        "df.dropna(inplace=True)"
      ]
    },
    {
      "cell_type": "code",
      "execution_count": null,
      "metadata": {
        "id": "5-8obSyF5OuV"
      },
      "outputs": [],
      "source": [
        "from sklearn.preprocessing import LabelEncoder "
      ]
    },
    {
      "cell_type": "code",
      "execution_count": null,
      "metadata": {
        "id": "aQQv8BfN8-Kt"
      },
      "outputs": [],
      "source": [
        "le=LabelEncoder()"
      ]
    },
    {
      "cell_type": "code",
      "execution_count": null,
      "metadata": {
        "id": "dazOLJJO9Fsl"
      },
      "outputs": [],
      "source": [
        "y=le.fit_transform(df['sentiment'])"
      ]
    },
    {
      "cell_type": "code",
      "execution_count": null,
      "metadata": {
        "colab": {
          "base_uri": "https://localhost:8080/"
        },
        "id": "_5V06qou9Mak",
        "outputId": "4486c9e5-b81e-42a0-f4f0-a70b2ada75b1"
      },
      "outputs": [
        {
          "output_type": "execute_result",
          "data": {
            "text/plain": [
              "array([0, 0, 0, ..., 1, 1, 1])"
            ]
          },
          "metadata": {},
          "execution_count": 7
        }
      ],
      "source": [
        "y"
      ]
    },
    {
      "cell_type": "code",
      "execution_count": null,
      "metadata": {
        "id": "xdJ0kHELgVGK"
      },
      "outputs": [],
      "source": [
        ""
      ]
    },
    {
      "cell_type": "markdown",
      "metadata": {
        "id": "pun6ip-sCEM5"
      },
      "source": [
        "# Word Embedding:"
      ]
    },
    {
      "cell_type": "markdown",
      "metadata": {
        "id": "dscioItuCrr_"
      },
      "source": [
        "##We make our dictionary:"
      ]
    },
    {
      "cell_type": "code",
      "execution_count": null,
      "metadata": {
        "id": "XUL8XvcDCBHt"
      },
      "outputs": [],
      "source": [
        "from keras.preprocessing.text import Tokenizer"
      ]
    },
    {
      "cell_type": "code",
      "source": [
        "vocabulary_size = 20000\n",
        "tokenizer = Tokenizer(num_words= vocabulary_size)\n",
        "tokenizer.fit_on_texts(df['clean'])"
      ],
      "metadata": {
        "id": "qmbF40zSjylg"
      },
      "execution_count": null,
      "outputs": []
    },
    {
      "cell_type": "markdown",
      "metadata": {
        "id": "jBd3DzCM5-px"
      },
      "source": [
        "##x:"
      ]
    },
    {
      "cell_type": "code",
      "source": [
        "from keras.preprocessing.sequence import  pad_sequences"
      ],
      "metadata": {
        "id": "mVazCy4Jkhi_"
      },
      "execution_count": null,
      "outputs": []
    },
    {
      "cell_type": "code",
      "execution_count": null,
      "metadata": {
        "id": "8EvE0JFcXMW7"
      },
      "outputs": [],
      "source": [
        "sequences = tokenizer.texts_to_sequences(df['clean'])\n",
        "data = pad_sequences(sequences, maxlen=50)\n",
        "x=data\n"
      ]
    },
    {
      "cell_type": "markdown",
      "metadata": {
        "id": "HHIMtYK5EQFU"
      },
      "source": [
        "##Prepairing the embedding with pretrained Glove:"
      ]
    },
    {
      "cell_type": "markdown",
      "source": [
        "\n",
        "###Importing Pretrained Glove:"
      ],
      "metadata": {
        "id": "ngfh2Oc7kZsi"
      }
    },
    {
      "cell_type": "code",
      "execution_count": null,
      "metadata": {
        "id": "6sMWo391nFM1"
      },
      "outputs": [],
      "source": [
        "# !wget http://nlp.stanford.edu/data/glove.6B.zip"
      ]
    },
    {
      "cell_type": "code",
      "execution_count": null,
      "metadata": {
        "id": "Qh724zkmofZq"
      },
      "outputs": [],
      "source": [
        "# !cp /content/glove.6B.zip -r /content/drive/MyDrive/MachineLearning/NLP"
      ]
    },
    {
      "cell_type": "code",
      "execution_count": null,
      "metadata": {
        "id": "CUZ_G0atoscT"
      },
      "outputs": [],
      "source": [
        "!cp /content/drive/MyDrive/MachineLearning/NLP/glove.6B.zip -r /content/"
      ]
    },
    {
      "cell_type": "code",
      "execution_count": null,
      "metadata": {
        "colab": {
          "base_uri": "https://localhost:8080/"
        },
        "id": "gMkECoHuok3H",
        "outputId": "8808d2a2-3e03-480c-db3f-8cb470bc092c"
      },
      "outputs": [
        {
          "output_type": "stream",
          "name": "stdout",
          "text": [
            "Archive:  /content/glove.6B.zip\n",
            "  inflating: glove.6B.50d.txt        \n",
            "  inflating: glove.6B.100d.txt       \n",
            "  inflating: glove.6B.200d.txt       \n",
            "  inflating: glove.6B.300d.txt       \n"
          ]
        }
      ],
      "source": [
        "!unzip /content/glove.6B.zip"
      ]
    },
    {
      "cell_type": "code",
      "source": [
        "embeddings_index = dict()\n",
        "f = open('/content/glove.6B.100d.txt')\n",
        "for line in f:\n",
        "    values = line.split()\n",
        "    word = values[0]\n",
        "    coefs = np.asarray(values[1:], dtype='float32')\n",
        "    embeddings_index[word] = coefs\n",
        "f.close()"
      ],
      "metadata": {
        "id": "y9FjhqNRlOHB"
      },
      "execution_count": null,
      "outputs": []
    },
    {
      "cell_type": "markdown",
      "source": [
        "#### Creating Embedding Matrix:"
      ],
      "metadata": {
        "id": "bVnZiUEMltoG"
      }
    },
    {
      "cell_type": "code",
      "source": [
        "embedding_matrix = np.zeros((vocabulary_size, 100))\n",
        "for word, index in tokenizer.word_index.items():\n",
        "    if index > vocabulary_size - 1:\n",
        "        break\n",
        "    else:\n",
        "        embedding_vector = embeddings_index.get(word)\n",
        "        if embedding_vector is not None:\n",
        "            embedding_matrix[index] = embedding_vector"
      ],
      "metadata": {
        "id": "Zw5gu_zHlODM"
      },
      "execution_count": null,
      "outputs": []
    },
    {
      "cell_type": "markdown",
      "source": [
        "##Train Test Split:"
      ],
      "metadata": {
        "id": "r8QvJzlrmpHn"
      }
    },
    {
      "cell_type": "code",
      "source": [
        "from sklearn.model_selection import train_test_split"
      ],
      "metadata": {
        "id": "hX3Uw1vNm6_1"
      },
      "execution_count": null,
      "outputs": []
    },
    {
      "cell_type": "code",
      "source": [
        "x_train, x_test, y_train, y_test=train_test_split(x, y, random_state=47, stratify=y, test_size=.2)"
      ],
      "metadata": {
        "id": "YQ9bzvHjlOAB"
      },
      "execution_count": null,
      "outputs": []
    },
    {
      "cell_type": "code",
      "source": [
        "print(x_train.shape, x_test.shape, y_train.shape, y_test.shape)"
      ],
      "metadata": {
        "colab": {
          "base_uri": "https://localhost:8080/"
        },
        "id": "iEt5UJHdnkkD",
        "outputId": "8db2a17b-1446-454e-c08d-b25791ec4722"
      },
      "execution_count": null,
      "outputs": [
        {
          "output_type": "stream",
          "name": "stdout",
          "text": [
            "(1279324, 50) (319831, 50) (1279324,) (319831,)\n"
          ]
        }
      ]
    },
    {
      "cell_type": "markdown",
      "metadata": {
        "id": "QBeC4P796b5R"
      },
      "source": [
        "#Model"
      ]
    },
    {
      "cell_type": "code",
      "source": [
        "from keras.models import Sequential\n",
        "from keras.layers import Embedding, Dropout, Conv1D, MaxPooling1D, LSTM, Dense"
      ],
      "metadata": {
        "id": "1fJKyX7pn-Uz"
      },
      "execution_count": null,
      "outputs": []
    },
    {
      "cell_type": "code",
      "source": [
        "model_glove = Sequential()\n",
        "model_glove.add(Embedding(vocabulary_size, 100, input_length=50, weights=[embedding_matrix], trainable=False))\n",
        "model_glove.add(Dropout(0.2))\n",
        "model_glove.add(Conv1D(64, 5, activation='relu'))\n",
        "model_glove.add(MaxPooling1D(pool_size=4))\n",
        "model_glove.add(LSTM(100))\n",
        "model_glove.add(Dense(1, activation='sigmoid'))\n",
        "model_glove.compile(loss='binary_crossentropy', optimizer='adam', metrics=['accuracy'])"
      ],
      "metadata": {
        "id": "jL1RaK-NlN9I"
      },
      "execution_count": null,
      "outputs": []
    },
    {
      "cell_type": "code",
      "source": [
        "hist=model_glove.fit(x_train, y_train, epochs=3, validation_split=.2, batch_size=625)"
      ],
      "metadata": {
        "colab": {
          "base_uri": "https://localhost:8080/"
        },
        "id": "PymhhvZYlN69",
        "outputId": "4ef9df81-75e1-44f0-d268-69a15c230e58"
      },
      "execution_count": null,
      "outputs": [
        {
          "output_type": "stream",
          "name": "stdout",
          "text": [
            "Epoch 1/3\n",
            "1638/1638 [==============================] - 395s 239ms/step - loss: 0.6164 - accuracy: 0.6483 - val_loss: 0.5941 - val_accuracy: 0.6702\n",
            "Epoch 2/3\n",
            "1638/1638 [==============================] - 398s 243ms/step - loss: 0.5997 - accuracy: 0.6644 - val_loss: 0.5889 - val_accuracy: 0.6746\n",
            "Epoch 3/3\n",
            "1638/1638 [==============================] - 415s 254ms/step - loss: 0.5944 - accuracy: 0.6688 - val_loss: 0.5865 - val_accuracy: 0.6764\n"
          ]
        }
      ]
    },
    {
      "cell_type": "code",
      "execution_count": null,
      "metadata": {
        "colab": {
          "base_uri": "https://localhost:8080/"
        },
        "id": "Q21qdYAPFEKT",
        "outputId": "93397d2a-57c7-4da1-a947-dd225fa0aa2f"
      },
      "outputs": [
        {
          "output_type": "stream",
          "name": "stderr",
          "text": [
            "WARNING:absl:Found untraced functions such as lstm_cell_layer_call_fn, lstm_cell_layer_call_and_return_conditional_losses, lstm_cell_layer_call_fn, lstm_cell_layer_call_and_return_conditional_losses, lstm_cell_layer_call_and_return_conditional_losses while saving (showing 5 of 5). These functions will not be directly callable after loading.\n"
          ]
        },
        {
          "output_type": "stream",
          "name": "stdout",
          "text": [
            "INFO:tensorflow:Assets written to: /content/drive/MyDrive/MachineLearning/NLP/Glove_embedding_1/assets\n"
          ]
        },
        {
          "output_type": "stream",
          "name": "stderr",
          "text": [
            "INFO:tensorflow:Assets written to: /content/drive/MyDrive/MachineLearning/NLP/Glove_embedding_1/assets\n",
            "WARNING:absl:<keras.layers.recurrent.LSTMCell object at 0x7fa8ab763990> has the same name 'LSTMCell' as a built-in Keras object. Consider renaming <class 'keras.layers.recurrent.LSTMCell'> to avoid naming conflicts when loading with `tf.keras.models.load_model`. If renaming is not possible, pass the object in the `custom_objects` parameter of the load function.\n"
          ]
        }
      ],
      "source": [
        "model_glove.save('/content/drive/MyDrive/MachineLearning/NLP/Glove_embedding_1')"
      ]
    },
    {
      "cell_type": "code",
      "execution_count": null,
      "metadata": {
        "colab": {
          "base_uri": "https://localhost:8080/",
          "height": 279
        },
        "id": "xYGMmmN8FhPg",
        "outputId": "94e96361-2646-48a0-d617-0a3b4177700a"
      },
      "outputs": [
        {
          "output_type": "display_data",
          "data": {
            "image/png": "[encoded data removed]",
            "text/plain": [
              "<Figure size 432x288 with 1 Axes>"
            ]
          },
          "metadata": {
            "needs_background": "light"
          }
        }
      ],
      "source": [
        "plt.plot(hist.history['accuracy'],label='train acc')\n",
        "plt.plot(hist.history['val_accuracy'],label='val acc')\n",
        "plt.xlabel('epochs')\n",
        "plt.ylabel('acc')\n",
        "plt.legend(loc='lower right')\n",
        "plt.show();"
      ]
    },
    {
      "cell_type": "markdown",
      "metadata": {
        "id": "NIazX_KPCdQI"
      },
      "source": [
        "#Score:"
      ]
    },
    {
      "cell_type": "code",
      "execution_count": null,
      "metadata": {
        "id": "aSDOevJWAOKV"
      },
      "outputs": [],
      "source": [
        "pred=model_glove.predict(x_test)\n"
      ]
    },
    {
      "cell_type": "code",
      "execution_count": null,
      "metadata": {
        "id": "bj57NfiUGQ4f"
      },
      "outputs": [],
      "source": [
        "pred=pred.reshape(pred.shape[0])"
      ]
    },
    {
      "cell_type": "code",
      "execution_count": null,
      "metadata": {
        "id": "7dfKdHDCQHO1"
      },
      "outputs": [],
      "source": [
        "def step(x):\n",
        "  if x>.5:\n",
        "    return 1\n",
        "  elif x<.5:\n",
        "    return 0"
      ]
    },
    {
      "cell_type": "code",
      "execution_count": null,
      "metadata": {
        "id": "2vqbgA6IGQZv"
      },
      "outputs": [],
      "source": [
        "y_pred=list(map(step, pred))\n"
      ]
    },
    {
      "cell_type": "code",
      "execution_count": null,
      "metadata": {
        "colab": {
          "base_uri": "https://localhost:8080/"
        },
        "id": "lZZGO2BjP24u",
        "outputId": "25e8ed90-c61c-42d3-e359-c61e05cd3534"
      },
      "outputs": [
        {
          "output_type": "execute_result",
          "data": {
            "text/plain": [
              "{0, 1}"
            ]
          },
          "metadata": {},
          "execution_count": 42
        }
      ],
      "source": [
        "set(y_pred)"
      ]
    },
    {
      "cell_type": "code",
      "source": [
        "le.inverse_transform(np.array([0]))"
      ],
      "metadata": {
        "colab": {
          "base_uri": "https://localhost:8080/"
        },
        "id": "SYXWmTsZucTl",
        "outputId": "95703690-1dc1-4370-f366-68106e043ef7"
      },
      "execution_count": null,
      "outputs": [
        {
          "output_type": "execute_result",
          "data": {
            "text/plain": [
              "array(['negative'], dtype=object)"
            ]
          },
          "metadata": {},
          "execution_count": 46
        }
      ]
    },
    {
      "cell_type": "code",
      "execution_count": null,
      "metadata": {
        "colab": {
          "base_uri": "https://localhost:8080/",
          "height": 265
        },
        "id": "98MtW4dwCiAr",
        "outputId": "8edbcfc0-d8c3-4e3c-f4ec-9ab5007a4257"
      },
      "outputs": [
        {
          "output_type": "display_data",
          "data": {
            "image/png": "[encoded data removed]",
            "text/plain": [
              "<Figure size 432x288 with 2 Axes>"
            ]
          },
          "metadata": {
            "needs_background": "light"
          }
        }
      ],
      "source": [
        "from sklearn.metrics import confusion_matrix\n",
        "cm=confusion_matrix(y_test, y_pred, normalize='true')\n",
        "\n",
        "sn.heatmap(cm, annot=True, fmt='2.3f', \n",
        "           yticklabels=[ 'neg','pos'] ,\n",
        "           xticklabels=[ 'neg','pos'] , \n",
        "           cmap='YlGnBu');"
      ]
    },
    {
      "cell_type": "code",
      "execution_count": null,
      "metadata": {
        "id": "qH-MkDeFqqln"
      },
      "outputs": [],
      "source": [
        "from sklearn.metrics import accuracy_score"
      ]
    },
    {
      "cell_type": "code",
      "execution_count": null,
      "metadata": {
        "colab": {
          "base_uri": "https://localhost:8080/"
        },
        "id": "8sYj-6xSqv15",
        "outputId": "8773de83-1b9d-4574-8f0d-56442cff7d66"
      },
      "outputs": [
        {
          "output_type": "execute_result",
          "data": {
            "text/plain": [
              "0.6770419377733866"
            ]
          },
          "metadata": {},
          "execution_count": 55
        }
      ],
      "source": [
        "accuracy_score(y_test, y_pred)"
      ]
    },
    {
      "cell_type": "code",
      "execution_count": null,
      "metadata": {
        "id": "-nEzuqG-QoPM"
      },
      "outputs": [],
      "source": [
        ""
      ]
    }
  ],
  "metadata": {
    "colab": {
      "collapsed_sections": [],
      "name": "1_Tweet Sentiment_Prertrained_Glove.ipynb",
      "provenance": [],
      "mount_file_id": "1VvzgMptIAqdLyrCzya9wTnwi7nFALTOn",
      "authorship_tag": "ABX9TyMdvVSIb3N1mv1ZWnEQyBkY",
      "include_colab_link": true
    },
    "kernelspec": {
      "display_name": "Python 3",
      "name": "python3"
    },
    "language_info": {
      "name": "python"
    }
  },
  "nbformat": 4,
  "nbformat_minor": 0
}