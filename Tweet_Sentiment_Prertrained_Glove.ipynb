{
  "cells": [
    {
      "cell_type": "markdown",
      "metadata": {
        "id": "view-in-github",
        "colab_type": "text"
      },
      "source": [
        "<a href=\"https://colab.research.google.com/github/Sedighe-Raeisi/NLP-Sentiment-Analysis-/blob/main/2_Tweet_Sentiment_Prertrained_Glove.ipynb\" target=\"_parent\"><img src=\"https://colab.research.google.com/assets/colab-badge.svg\" alt=\"Open In Colab\"/></a>"
      ]
    },
    {
      "cell_type": "code",
      "execution_count": 2,
      "metadata": {
        "id": "pn1YTc6Nu52d"
      },
      "outputs": [],
      "source": [
        "import pandas as pd\n",
        "import numpy as np\n",
        "import matplotlib.pyplot as plt\n",
        "import seaborn as sn\n"
      ]
    },
    {
      "cell_type": "code",
      "execution_count": 3,
      "metadata": {
        "id": "U9zmcExRNqf2"
      },
      "outputs": [],
      "source": [
        "path='/content/drive/MyDrive/MachineLearning/NLP/training.1600000.processed.noemoticon.csv'\n",
        "df=pd.read_csv(path)"
      ]
    },
    {
      "cell_type": "code",
      "execution_count": null,
      "metadata": {
        "id": "Zk0Ku5MdOO7B"
      },
      "outputs": [],
      "source": [
        "neg=len(df[df['sentiment']=='negative'])\n",
        "pos=len(df[df['sentiment']=='positive'])"
      ]
    },
    {
      "cell_type": "code",
      "execution_count": null,
      "metadata": {
        "colab": {
          "base_uri": "https://localhost:8080/",
          "height": 248
        },
        "id": "xlqrjW43Nwpr",
        "outputId": "15d6aa8a-5827-4214-b494-eda40ed060e2"
      },
      "outputs": [
        {
          "data": {
            "image/png": "[encoded data removed]",
            "text/plain": [
              "<Figure size 432x288 with 1 Axes>"
            ]
          },
          "metadata": {},
          "output_type": "display_data"
        }
      ],
      "source": [
        "plt.pie([neg,pos],labels=['negative tweets','positive tweets'], autopct='%2.1f%%');"
      ]
    },
    {
      "cell_type": "markdown",
      "metadata": {
        "id": "MMA6t9t-5rFA"
      },
      "source": [
        "#Importing data from link:\n",
        "https://www.kaggle.com/kazanova/sentiment140"
      ]
    },
    {
      "cell_type": "code",
      "execution_count": null,
      "metadata": {
        "id": "7JOaLyf2w8pT"
      },
      "outputs": [],
      "source": [
        "!pip install kaggle"
      ]
    },
    {
      "cell_type": "code",
      "execution_count": null,
      "metadata": {
        "id": "63cUUvuKxWa9"
      },
      "outputs": [],
      "source": [
        "!mkdir  -p /root/.kaggle/"
      ]
    },
    {
      "cell_type": "code",
      "execution_count": null,
      "metadata": {
        "id": "UyE7a-V_yD2k"
      },
      "outputs": [],
      "source": [
        "!cp /content/drive/MyDrive/MachineLearning/kaggle.json -r /root/.kaggle/"
      ]
    },
    {
      "cell_type": "code",
      "execution_count": null,
      "metadata": {
        "id": "tZopI2n2yO7H"
      },
      "outputs": [],
      "source": [
        "!chmod 600 ~ /root/.kaggle/kaggle.json"
      ]
    },
    {
      "cell_type": "code",
      "execution_count": null,
      "metadata": {
        "id": "sWhWKAGZzSWY"
      },
      "outputs": [],
      "source": [
        "! kaggle datasets list"
      ]
    },
    {
      "cell_type": "code",
      "execution_count": null,
      "metadata": {
        "colab": {
          "base_uri": "https://localhost:8080/"
        },
        "id": "WWGEgWdgw6kx",
        "outputId": "aabc97fd-d469-4c8e-eba9-83a29c71b051"
      },
      "outputs": [
        {
          "name": "stdout",
          "output_type": "stream",
          "text": [
            "Downloading sentiment140.zip to /content\n",
            " 96% 78.0M/80.9M [00:00<00:00, 151MB/s]\n",
            "100% 80.9M/80.9M [00:00<00:00, 149MB/s]\n"
          ]
        }
      ],
      "source": [
        "!kaggle datasets download -d kazanova/sentiment140"
      ]
    },
    {
      "cell_type": "code",
      "execution_count": null,
      "metadata": {
        "id": "KrftmvH5y0qw"
      },
      "outputs": [],
      "source": [
        "!cp /content/sentiment140.zip -r /content/drive/MyDrive/MachineLearning/NLP"
      ]
    },
    {
      "cell_type": "code",
      "execution_count": null,
      "metadata": {
        "colab": {
          "base_uri": "https://localhost:8080/"
        },
        "id": "W73TLnr-0wqA",
        "outputId": "a9fcfe13-6f23-4cc1-caf1-5e9fb6b6438a"
      },
      "outputs": [
        {
          "name": "stdout",
          "output_type": "stream",
          "text": [
            "Archive:  /content/drive/MyDrive/MachineLearning/NLP/sentiment140.zip\n",
            "  inflating: /content/drive/MyDrive/MachineLearning/NLP/training.1600000.processed.noemoticon.csv  \n"
          ]
        }
      ],
      "source": [
        "!unzip /content/drive/MyDrive/MachineLearning/NLP/sentiment140.zip -d /content/drive/MyDrive/MachineLearning/NLP"
      ]
    },
    {
      "cell_type": "markdown",
      "metadata": {
        "id": "QO8UYjGE6DhI"
      },
      "source": [
        "##Preparing the dataframe"
      ]
    },
    {
      "cell_type": "code",
      "execution_count": null,
      "metadata": {
        "id": "LpS8A3uz01VR"
      },
      "outputs": [],
      "source": [
        "path='/content/drive/MyDrive/MachineLearning/NLP/training.1600000.processed.noemoticon.csv'\n",
        "data=pd.read_csv(path\n",
        "               ,encoding='latin-1'\n",
        "               )"
      ]
    },
    {
      "cell_type": "code",
      "execution_count": null,
      "metadata": {
        "colab": {
          "base_uri": "https://localhost:8080/"
        },
        "id": "GxKnLpPI7ar3",
        "outputId": "d46df817-3e96-44d5-8b80-a7fd309c6380"
      },
      "outputs": [
        {
          "data": {
            "text/plain": [
              "Index(['Unnamed: 0', 'sentiment', 'tweet', 'clean'], dtype='object')"
            ]
          },
          "execution_count": 3,
          "metadata": {},
          "output_type": "execute_result"
        }
      ],
      "source": [
        "data.columns"
      ]
    },
    {
      "cell_type": "code",
      "execution_count": null,
      "metadata": {
        "id": "B_Zhd7eq73k2"
      },
      "outputs": [],
      "source": [
        "set(data['0'])"
      ]
    },
    {
      "cell_type": "code",
      "execution_count": null,
      "metadata": {
        "id": "NeZGSIF_2H3A"
      },
      "outputs": [],
      "source": [
        "df=pd.DataFrame()"
      ]
    },
    {
      "cell_type": "code",
      "execution_count": null,
      "metadata": {
        "id": "Lc3dEq5d6tjr"
      },
      "outputs": [],
      "source": [
        "def sentiment(x):\n",
        "  if x==4:\n",
        "    return 'positive'\n",
        "  elif x==0:\n",
        "    return 'negative'"
      ]
    },
    {
      "cell_type": "code",
      "execution_count": null,
      "metadata": {
        "id": "ziwJQEg34sdf"
      },
      "outputs": [],
      "source": [
        "df['sentiment']=data['0'].apply(lambda x: sentiment(x) )"
      ]
    },
    {
      "cell_type": "code",
      "execution_count": null,
      "metadata": {
        "id": "g8cl_-0p41b4"
      },
      "outputs": [],
      "source": [
        "df['tweet']=data.iloc[:,5]"
      ]
    },
    {
      "cell_type": "code",
      "execution_count": null,
      "metadata": {
        "id": "AA-DiqFQ29VR"
      },
      "outputs": [],
      "source": [
        "del data"
      ]
    },
    {
      "cell_type": "code",
      "execution_count": null,
      "metadata": {
        "id": "FlReHbsG3MzA"
      },
      "outputs": [],
      "source": [
        "df.head(2)"
      ]
    },
    {
      "cell_type": "code",
      "execution_count": null,
      "metadata": {
        "id": "S3xmf4hU5Bfu"
      },
      "outputs": [],
      "source": [
        "df.isnull().sum()"
      ]
    },
    {
      "cell_type": "code",
      "execution_count": null,
      "metadata": {
        "id": "GkeeYumb5GYj"
      },
      "outputs": [],
      "source": [
        "(set(df['sentiment']))"
      ]
    },
    {
      "cell_type": "markdown",
      "metadata": {
        "id": "AQTDoFRk8K5a"
      },
      "source": [
        "#Preprocessing:"
      ]
    },
    {
      "cell_type": "markdown",
      "metadata": {
        "id": "plbGOqPw9Sk7"
      },
      "source": [
        "\n",
        "##Preprocessing Tweets:"
      ]
    },
    {
      "cell_type": "code",
      "execution_count": null,
      "metadata": {
        "colab": {
          "base_uri": "https://localhost:8080/"
        },
        "id": "ojuBi3eIuRIn",
        "outputId": "b9ef00b2-27c0-46a1-b177-63f6b689ef53"
      },
      "outputs": [
        {
          "data": {
            "text/html": [
              "<div>\n",
              "<style scoped>\n",
              "    .dataframe tbody tr th:only-of-type {\n",
              "        vertical-align: middle;\n",
              "    }\n",
              "\n",
              "    .dataframe tbody tr th {\n",
              "        vertical-align: top;\n",
              "    }\n",
              "\n",
              "    .dataframe thead th {\n",
              "        text-align: right;\n",
              "    }\n",
              "</style>\n",
              "<table border=\"1\" class=\"dataframe\">\n",
              "  <thead>\n",
              "    <tr style=\"text-align: right;\">\n",
              "      <th></th>\n",
              "      <th>sentiment</th>\n",
              "      <th>tweet</th>\n",
              "    </tr>\n",
              "  </thead>\n",
              "  <tbody>\n",
              "    <tr>\n",
              "      <th>0</th>\n",
              "      <td>negative</td>\n",
              "      <td>is upset that he can't update his Facebook by ...</td>\n",
              "    </tr>\n",
              "    <tr>\n",
              "      <th>1</th>\n",
              "      <td>negative</td>\n",
              "      <td>@Kenichan I dived many times for the ball. Man...</td>\n",
              "    </tr>\n",
              "    <tr>\n",
              "      <th>2</th>\n",
              "      <td>negative</td>\n",
              "      <td>my whole body feels itchy and like its on fire</td>\n",
              "    </tr>\n",
              "    <tr>\n",
              "      <th>3</th>\n",
              "      <td>negative</td>\n",
              "      <td>@nationwideclass no, it's not behaving at all....</td>\n",
              "    </tr>\n",
              "    <tr>\n",
              "      <th>4</th>\n",
              "      <td>negative</td>\n",
              "      <td>@Kwesidei not the whole crew</td>\n",
              "    </tr>\n",
              "  </tbody>\n",
              "</table>\n",
              "</div>"
            ],
            "text/plain": [
              "  sentiment                                              tweet\n",
              "0  negative  is upset that he can't update his Facebook by ...\n",
              "1  negative  @Kenichan I dived many times for the ball. Man...\n",
              "2  negative    my whole body feels itchy and like its on fire \n",
              "3  negative  @nationwideclass no, it's not behaving at all....\n",
              "4  negative                      @Kwesidei not the whole crew "
            ]
          },
          "execution_count": 21,
          "metadata": {},
          "output_type": "execute_result"
        }
      ],
      "source": [
        "df.head()"
      ]
    },
    {
      "cell_type": "code",
      "execution_count": null,
      "metadata": {
        "id": "LLYdL3spzOUn"
      },
      "outputs": [],
      "source": [
        "import nltk\n",
        "from nltk.tokenize import RegexpTokenizer\n",
        "from nltk.stem import WordNetLemmatizer,PorterStemmer\n",
        "from nltk.corpus import stopwords\n",
        "import re"
      ]
    },
    {
      "cell_type": "code",
      "execution_count": null,
      "metadata": {
        "id": "QCAkPPAzzI_y"
      },
      "outputs": [],
      "source": [
        "\n",
        "lemmatizer = WordNetLemmatizer()\n",
        "stemmer = PorterStemmer() \n",
        "\n",
        "def preprocess(sentence):\n",
        "  sentence=str(sentence)\n",
        "  sentence = sentence.lower()\n",
        "  sentence=sentence.replace('{html}',\"\") \n",
        "  sentence=sentence.replace('{@}',\"\")\n",
        "  cleanr = re.compile('<.*?>')\n",
        "  cleantext = re.sub(cleanr, '', sentence)\n",
        "  rem_url=re.sub(r'http\\S+', '',cleantext)\n",
        "  rem_num = re.sub('[0-9]+', '', rem_url)\n",
        "  tokenizer = RegexpTokenizer(r'\\w+')\n",
        "  tokens = tokenizer.tokenize(rem_num)  \n",
        "  filtered_words = [w for w in tokens if len(w) > 2 if not w in stopwords.words('english')]\n",
        "  stem_words=[stemmer.stem(w) for w in filtered_words]\n",
        "  lemma_words=[lemmatizer.lemmatize(w) for w in stem_words]\n",
        "  return \" \".join(filtered_words)"
      ]
    },
    {
      "cell_type": "code",
      "execution_count": null,
      "metadata": {
        "colab": {
          "base_uri": "https://localhost:8080/"
        },
        "id": "N21gxTq70RLx",
        "outputId": "cbd0a106-921c-491f-ad2b-bc801b631ca9"
      },
      "outputs": [
        {
          "name": "stdout",
          "output_type": "stream",
          "text": [
            "[nltk_data] Downloading package stopwords to /root/nltk_data...\n",
            "[nltk_data]   Unzipping corpora/stopwords.zip.\n",
            "[nltk_data] Downloading package wordnet to /root/nltk_data...\n",
            "[nltk_data]   Unzipping corpora/wordnet.zip.\n"
          ]
        },
        {
          "data": {
            "text/plain": [
              "True"
            ]
          },
          "execution_count": 17,
          "metadata": {},
          "output_type": "execute_result"
        }
      ],
      "source": [
        "nltk.download('stopwords')\n",
        "nltk.download('wordnet')"
      ]
    },
    {
      "cell_type": "code",
      "execution_count": null,
      "metadata": {
        "id": "8mRR6R6mzyNZ"
      },
      "outputs": [],
      "source": [
        "df['clean']=df['tweet'].apply(lambda x: preprocess(x))"
      ]
    },
    {
      "cell_type": "code",
      "execution_count": null,
      "metadata": {
        "id": "AFo5zzeVDi3y"
      },
      "outputs": [],
      "source": [
        "df.to_csv(path)"
      ]
    },
    {
      "cell_type": "code",
      "execution_count": null,
      "metadata": {
        "colab": {
          "base_uri": "https://localhost:8080/"
        },
        "id": "kNMpci43ez8P",
        "outputId": "74bab0d8-14e1-4cfa-9bfd-ebabd094ab1d"
      },
      "outputs": [
        {
          "data": {
            "text/plain": [
              "Unnamed: 0      0\n",
              "sentiment       0\n",
              "tweet           0\n",
              "clean         844\n",
              "dtype: int64"
            ]
          },
          "execution_count": 14,
          "metadata": {},
          "output_type": "execute_result"
        }
      ],
      "source": [
        "df.isnull().sum()"
      ]
    },
    {
      "cell_type": "code",
      "execution_count": null,
      "metadata": {
        "id": "rtE662iGYDqV"
      },
      "outputs": [],
      "source": [
        "path='/content/drive/MyDrive/MachineLearning/NLP/training.1600000.processed.noemoticon.csv'\n",
        "df=pd.read_csv(path)"
      ]
    },
    {
      "cell_type": "code",
      "execution_count": null,
      "metadata": {
        "colab": {
          "base_uri": "https://localhost:8080/"
        },
        "id": "D7iHq9vR4qzS",
        "outputId": "a7e44bb3-8ec2-421b-feaf-289577425447"
      },
      "outputs": [
        {
          "data": {
            "text/plain": [
              "Unnamed: 0      0\n",
              "sentiment       0\n",
              "tweet           0\n",
              "clean         844\n",
              "dtype: int64"
            ]
          },
          "execution_count": 5,
          "metadata": {},
          "output_type": "execute_result"
        }
      ],
      "source": [
        "df.isnull().sum()"
      ]
    },
    {
      "cell_type": "code",
      "execution_count": null,
      "metadata": {
        "id": "OwKqHPXC4x1H"
      },
      "outputs": [],
      "source": [
        "df.dropna(inplace=True)"
      ]
    },
    {
      "cell_type": "markdown",
      "metadata": {
        "id": "Ys4XJD4J8VWh"
      },
      "source": [
        "\n",
        "##Preprocessing labels"
      ]
    },
    {
      "cell_type": "code",
      "execution_count": 4,
      "metadata": {
        "id": "scu8cpmye6Ui"
      },
      "outputs": [],
      "source": [
        "df.dropna(inplace=True)"
      ]
    },
    {
      "cell_type": "code",
      "execution_count": 5,
      "metadata": {
        "id": "5-8obSyF5OuV"
      },
      "outputs": [],
      "source": [
        "from sklearn.preprocessing import LabelEncoder "
      ]
    },
    {
      "cell_type": "code",
      "execution_count": 6,
      "metadata": {
        "id": "aQQv8BfN8-Kt"
      },
      "outputs": [],
      "source": [
        "le=LabelEncoder()"
      ]
    },
    {
      "cell_type": "code",
      "execution_count": 7,
      "metadata": {
        "id": "dazOLJJO9Fsl"
      },
      "outputs": [],
      "source": [
        "y=le.fit_transform(df['sentiment'])"
      ]
    },
    {
      "cell_type": "code",
      "execution_count": 8,
      "metadata": {
        "colab": {
          "base_uri": "https://localhost:8080/"
        },
        "id": "_5V06qou9Mak",
        "outputId": "49e9e4b7-ac0c-4d27-d306-212865a1d767"
      },
      "outputs": [
        {
          "output_type": "execute_result",
          "data": {
            "text/plain": [
              "array([0, 0, 0, ..., 1, 1, 1])"
            ]
          },
          "metadata": {},
          "execution_count": 8
        }
      ],
      "source": [
        "y"
      ]
    },
    {
      "cell_type": "code",
      "execution_count": 8,
      "metadata": {
        "id": "xdJ0kHELgVGK"
      },
      "outputs": [],
      "source": [
        ""
      ]
    },
    {
      "cell_type": "markdown",
      "metadata": {
        "id": "pun6ip-sCEM5"
      },
      "source": [
        "# Word Embedding:"
      ]
    },
    {
      "cell_type": "markdown",
      "metadata": {
        "id": "dscioItuCrr_"
      },
      "source": [
        "##We make our dictionary:"
      ]
    },
    {
      "cell_type": "code",
      "execution_count": 9,
      "metadata": {
        "id": "XUL8XvcDCBHt"
      },
      "outputs": [],
      "source": [
        "from keras.preprocessing.text import Tokenizer"
      ]
    },
    {
      "cell_type": "code",
      "source": [
        "vocabulary_size = 200000\n",
        "tokenizer = Tokenizer(num_words= vocabulary_size)\n",
        "tokenizer.fit_on_texts(df['clean'])"
      ],
      "metadata": {
        "id": "qmbF40zSjylg"
      },
      "execution_count": 10,
      "outputs": []
    },
    {
      "cell_type": "markdown",
      "metadata": {
        "id": "jBd3DzCM5-px"
      },
      "source": [
        "##x:"
      ]
    },
    {
      "cell_type": "code",
      "source": [
        "from keras.preprocessing.sequence import  pad_sequences"
      ],
      "metadata": {
        "id": "mVazCy4Jkhi_"
      },
      "execution_count": 11,
      "outputs": []
    },
    {
      "cell_type": "code",
      "execution_count": 12,
      "metadata": {
        "id": "8EvE0JFcXMW7"
      },
      "outputs": [],
      "source": [
        "sequences = tokenizer.texts_to_sequences(df['clean'])\n",
        "data = pad_sequences(sequences, maxlen=50)\n",
        "x=data\n"
      ]
    },
    {
      "cell_type": "markdown",
      "metadata": {
        "id": "HHIMtYK5EQFU"
      },
      "source": [
        "##Prepairing the embedding with pretrained Glove:"
      ]
    },
    {
      "cell_type": "markdown",
      "source": [
        "\n",
        "###Importing Pretrained Glove:"
      ],
      "metadata": {
        "id": "ngfh2Oc7kZsi"
      }
    },
    {
      "cell_type": "code",
      "execution_count": null,
      "metadata": {
        "id": "6sMWo391nFM1"
      },
      "outputs": [],
      "source": [
        "# !wget http://nlp.stanford.edu/data/glove.6B.zip"
      ]
    },
    {
      "cell_type": "code",
      "execution_count": null,
      "metadata": {
        "id": "Qh724zkmofZq"
      },
      "outputs": [],
      "source": [
        "# !cp /content/glove.6B.zip -r /content/drive/MyDrive/MachineLearning/NLP"
      ]
    },
    {
      "cell_type": "code",
      "execution_count": 15,
      "metadata": {
        "id": "CUZ_G0atoscT"
      },
      "outputs": [],
      "source": [
        "!cp /content/drive/MyDrive/MachineLearning/NLP/glove.6B.zip -r /content/"
      ]
    },
    {
      "cell_type": "code",
      "execution_count": 16,
      "metadata": {
        "colab": {
          "base_uri": "https://localhost:8080/"
        },
        "id": "gMkECoHuok3H",
        "outputId": "dcde15c6-338e-4e4a-9212-eaf3e9e513bd"
      },
      "outputs": [
        {
          "output_type": "stream",
          "name": "stdout",
          "text": [
            "Archive:  /content/glove.6B.zip\n",
            "  inflating: glove.6B.50d.txt        \n",
            "  inflating: glove.6B.100d.txt       \n",
            "  inflating: glove.6B.200d.txt       \n",
            "  inflating: glove.6B.300d.txt       \n"
          ]
        }
      ],
      "source": [
        "!unzip /content/glove.6B.zip"
      ]
    },
    {
      "cell_type": "code",
      "source": [
        "embeddings_index = dict()\n",
        "f = open('/content/glove.6B.200d.txt')\n",
        "for line in f:\n",
        "    values = line.split()\n",
        "    word = values[0]\n",
        "    coefs = np.asarray(values[1:], dtype='float32')\n",
        "    embeddings_index[word] = coefs\n",
        "f.close()"
      ],
      "metadata": {
        "id": "y9FjhqNRlOHB"
      },
      "execution_count": 17,
      "outputs": []
    },
    {
      "cell_type": "markdown",
      "source": [
        "#### Creating Embedding Matrix:"
      ],
      "metadata": {
        "id": "bVnZiUEMltoG"
      }
    },
    {
      "cell_type": "code",
      "source": [
        "embedding_matrix = np.zeros((vocabulary_size, 200))\n",
        "for word, index in tokenizer.word_index.items():\n",
        "    if index > vocabulary_size - 1:\n",
        "        break\n",
        "    else:\n",
        "        embedding_vector = embeddings_index.get(word)\n",
        "        if embedding_vector is not None:\n",
        "            embedding_matrix[index] = embedding_vector"
      ],
      "metadata": {
        "id": "Zw5gu_zHlODM"
      },
      "execution_count": 18,
      "outputs": []
    },
    {
      "cell_type": "markdown",
      "source": [
        "##Train Test Split:"
      ],
      "metadata": {
        "id": "r8QvJzlrmpHn"
      }
    },
    {
      "cell_type": "code",
      "source": [
        "from sklearn.model_selection import train_test_split"
      ],
      "metadata": {
        "id": "hX3Uw1vNm6_1"
      },
      "execution_count": 19,
      "outputs": []
    },
    {
      "cell_type": "code",
      "source": [
        "x_train, x_test, y_train, y_test=train_test_split(x, y, random_state=47, stratify=y, test_size=.2)"
      ],
      "metadata": {
        "id": "YQ9bzvHjlOAB"
      },
      "execution_count": 20,
      "outputs": []
    },
    {
      "cell_type": "code",
      "source": [
        "print(x_train.shape, x_test.shape, y_train.shape, y_test.shape)"
      ],
      "metadata": {
        "colab": {
          "base_uri": "https://localhost:8080/"
        },
        "id": "iEt5UJHdnkkD",
        "outputId": "337bd0fe-b0b3-4c37-eb19-a9a4621b9338"
      },
      "execution_count": 21,
      "outputs": [
        {
          "output_type": "stream",
          "name": "stdout",
          "text": [
            "(1279324, 50) (319831, 50) (1279324,) (319831,)\n"
          ]
        }
      ]
    },
    {
      "cell_type": "markdown",
      "metadata": {
        "id": "QBeC4P796b5R"
      },
      "source": [
        "#Model"
      ]
    },
    {
      "cell_type": "code",
      "source": [
        "from keras.models import Sequential\n",
        "from keras.layers import Embedding, Dropout, Conv1D, MaxPooling1D, LSTM, Dense"
      ],
      "metadata": {
        "id": "1fJKyX7pn-Uz"
      },
      "execution_count": 14,
      "outputs": []
    },
    {
      "cell_type": "code",
      "source": [
        "model_glove = Sequential()\n",
        "model_glove.add(Embedding(vocabulary_size, 200, input_length=50, weights=[embedding_matrix], trainable=False))\n",
        "model_glove.add(Dropout(0.2))\n",
        "model_glove.add(Conv1D(64, 5, activation='relu'))\n",
        "model_glove.add(MaxPooling1D(pool_size=4))\n",
        "model_glove.add(LSTM(100))\n",
        "model_glove.add(Dense(1, activation='sigmoid'))\n",
        "model_glove.compile(loss='binary_crossentropy', optimizer='adam', metrics=['accuracy'])"
      ],
      "metadata": {
        "id": "jL1RaK-NlN9I"
      },
      "execution_count": 81,
      "outputs": []
    },
    {
      "cell_type": "code",
      "source": [
        "model_glove.summary()"
      ],
      "metadata": {
        "colab": {
          "base_uri": "https://localhost:8080/"
        },
        "id": "Mx3CoYHuyFxH",
        "outputId": "626fefb5-3ce6-40ae-b7ca-ae96251b1dee"
      },
      "execution_count": 82,
      "outputs": [
        {
          "output_type": "stream",
          "name": "stdout",
          "text": [
            "Model: \"sequential_3\"\n",
            "_________________________________________________________________\n",
            " Layer (type)                Output Shape              Param #   \n",
            "=================================================================\n",
            " embedding_3 (Embedding)     (None, 50, 200)           40000000  \n",
            "                                                                 \n",
            " dropout_2 (Dropout)         (None, 50, 200)           0         \n",
            "                                                                 \n",
            " conv1d_2 (Conv1D)           (None, 46, 64)            64064     \n",
            "                                                                 \n",
            " max_pooling1d_2 (MaxPooling  (None, 11, 64)           0         \n",
            " 1D)                                                             \n",
            "                                                                 \n",
            " lstm_2 (LSTM)               (None, 100)               66000     \n",
            "                                                                 \n",
            " dense_2 (Dense)             (None, 1)                 101       \n",
            "                                                                 \n",
            "=================================================================\n",
            "Total params: 40,130,165\n",
            "Trainable params: 130,165\n",
            "Non-trainable params: 40,000,000\n",
            "_________________________________________________________________\n"
          ]
        }
      ]
    },
    {
      "cell_type": "code",
      "source": [
        "hist=model_glove.fit(x_train, y_train, epochs=3, validation_split=.2, batch_size=625)"
      ],
      "metadata": {
        "colab": {
          "base_uri": "https://localhost:8080/"
        },
        "id": "PymhhvZYlN69",
        "outputId": "f9af4bfe-6f5e-4deb-d648-8f6bb7e1beee"
      },
      "execution_count": 83,
      "outputs": [
        {
          "output_type": "stream",
          "name": "stdout",
          "text": [
            "Epoch 1/3\n",
            "1638/1638 [==============================] - 547s 332ms/step - loss: 0.6041 - accuracy: 0.6608 - val_loss: 0.5844 - val_accuracy: 0.6793\n",
            "Epoch 2/3\n",
            "1638/1638 [==============================] - 580s 354ms/step - loss: 0.5862 - accuracy: 0.6776 - val_loss: 0.5814 - val_accuracy: 0.6820\n",
            "Epoch 3/3\n",
            "1638/1638 [==============================] - 562s 343ms/step - loss: 0.5797 - accuracy: 0.6831 - val_loss: 0.5789 - val_accuracy: 0.6845\n"
          ]
        }
      ]
    },
    {
      "cell_type": "code",
      "execution_count": 84,
      "metadata": {
        "colab": {
          "base_uri": "https://localhost:8080/"
        },
        "id": "Q21qdYAPFEKT",
        "outputId": "1f8ee838-50f8-480d-b016-401e38f2d2cc"
      },
      "outputs": [
        {
          "output_type": "stream",
          "name": "stderr",
          "text": [
            "WARNING:absl:Found untraced functions such as lstm_cell_2_layer_call_fn, lstm_cell_2_layer_call_and_return_conditional_losses, lstm_cell_2_layer_call_fn, lstm_cell_2_layer_call_and_return_conditional_losses, lstm_cell_2_layer_call_and_return_conditional_losses while saving (showing 5 of 5). These functions will not be directly callable after loading.\n"
          ]
        },
        {
          "output_type": "stream",
          "name": "stdout",
          "text": [
            "INFO:tensorflow:Assets written to: /content/drive/MyDrive/MachineLearning/NLP/Glove_embedding_2/assets\n"
          ]
        },
        {
          "output_type": "stream",
          "name": "stderr",
          "text": [
            "INFO:tensorflow:Assets written to: /content/drive/MyDrive/MachineLearning/NLP/Glove_embedding_2/assets\n",
            "WARNING:absl:<keras.layers.recurrent.LSTMCell object at 0x7fa88f2c3710> has the same name 'LSTMCell' as a built-in Keras object. Consider renaming <class 'keras.layers.recurrent.LSTMCell'> to avoid naming conflicts when loading with `tf.keras.models.load_model`. If renaming is not possible, pass the object in the `custom_objects` parameter of the load function.\n"
          ]
        }
      ],
      "source": [
        "model_glove.save('/content/drive/MyDrive/MachineLearning/NLP/Glove_embedding_2')"
      ]
    },
    {
      "cell_type": "code",
      "execution_count": 85,
      "metadata": {
        "colab": {
          "base_uri": "https://localhost:8080/",
          "height": 279
        },
        "id": "xYGMmmN8FhPg",
        "outputId": "5a2f40aa-6896-43a9-a976-79eca3d231ed"
      },
      "outputs": [
        {
          "output_type": "display_data",
          "data": {
            "image/png": "[encoded data removed]",
            "text/plain": [
              "<Figure size 432x288 with 1 Axes>"
            ]
          },
          "metadata": {
            "needs_background": "light"
          }
        }
      ],
      "source": [
        "plt.plot(hist.history['accuracy'],label='train acc')\n",
        "plt.plot(hist.history['val_accuracy'],label='val acc')\n",
        "plt.xlabel('epochs')\n",
        "plt.ylabel('acc')\n",
        "plt.legend(loc='lower right')\n",
        "plt.show();"
      ]
    },
    {
      "cell_type": "code",
      "source": [
        ""
      ],
      "metadata": {
        "id": "bLoAIXKDrWGz"
      },
      "execution_count": null,
      "outputs": []
    },
    {
      "cell_type": "markdown",
      "source": [
        "Fit the model for more 5 epochs"
      ],
      "metadata": {
        "id": "9fa_VsV96vos"
      }
    },
    {
      "cell_type": "code",
      "source": [
        "hist2=model_glove.fit(x_train, y_train, epochs=5, validation_split=.2, batch_size=625)"
      ],
      "metadata": {
        "colab": {
          "base_uri": "https://localhost:8080/"
        },
        "id": "ekndrkZb6m-W",
        "outputId": "51a923aa-887f-4b5d-dbf3-df1aabe6cbd1"
      },
      "execution_count": 88,
      "outputs": [
        {
          "output_type": "stream",
          "name": "stdout",
          "text": [
            "Epoch 1/5\n",
            "1638/1638 [==============================] - 568s 346ms/step - loss: 0.5759 - accuracy: 0.6862 - val_loss: 0.5778 - val_accuracy: 0.6857\n",
            "Epoch 2/5\n",
            "1638/1638 [==============================] - 704s 430ms/step - loss: 0.5731 - accuracy: 0.6882 - val_loss: 0.5747 - val_accuracy: 0.6877\n",
            "Epoch 3/5\n",
            "1638/1638 [==============================] - 559s 341ms/step - loss: 0.5706 - accuracy: 0.6902 - val_loss: 0.5749 - val_accuracy: 0.6872\n",
            "Epoch 4/5\n",
            "1638/1638 [==============================] - 579s 353ms/step - loss: 0.5685 - accuracy: 0.6917 - val_loss: 0.5742 - val_accuracy: 0.6890\n",
            "Epoch 5/5\n",
            "1638/1638 [==============================] - 548s 334ms/step - loss: 0.5669 - accuracy: 0.6929 - val_loss: 0.5747 - val_accuracy: 0.6884\n"
          ]
        }
      ]
    },
    {
      "cell_type": "markdown",
      "metadata": {
        "id": "NIazX_KPCdQI"
      },
      "source": [
        "##Score:"
      ]
    },
    {
      "cell_type": "code",
      "source": [
        "from keras.models import load_model"
      ],
      "metadata": {
        "id": "6TkMZ-k8Xo0N"
      },
      "execution_count": 41,
      "outputs": []
    },
    {
      "cell_type": "code",
      "source": [
        "Glove1_path='/content/drive/MyDrive/MachineLearning/NLP/Glove_embedding_2'\n"
      ],
      "metadata": {
        "id": "DSgBiSpEXvAW"
      },
      "execution_count": 42,
      "outputs": []
    },
    {
      "cell_type": "code",
      "source": [
        "model_glove=load_model(Glove1_path)"
      ],
      "metadata": {
        "id": "LWPhEdBzXmdk"
      },
      "execution_count": 43,
      "outputs": []
    },
    {
      "cell_type": "code",
      "execution_count": 44,
      "metadata": {
        "id": "aSDOevJWAOKV"
      },
      "outputs": [],
      "source": [
        "pred=model_glove.predict(x_test)\n"
      ]
    },
    {
      "cell_type": "code",
      "execution_count": 45,
      "metadata": {
        "id": "bj57NfiUGQ4f"
      },
      "outputs": [],
      "source": [
        "pred=pred.reshape(pred.shape[0])"
      ]
    },
    {
      "cell_type": "code",
      "execution_count": 46,
      "metadata": {
        "id": "7dfKdHDCQHO1"
      },
      "outputs": [],
      "source": [
        "def step(x):\n",
        "  if x>.5:\n",
        "    return 1\n",
        "  elif x<.5:\n",
        "    return 0"
      ]
    },
    {
      "cell_type": "code",
      "execution_count": 47,
      "metadata": {
        "id": "2vqbgA6IGQZv"
      },
      "outputs": [],
      "source": [
        "y_pred=list(map(step, pred))\n"
      ]
    },
    {
      "cell_type": "code",
      "execution_count": 48,
      "metadata": {
        "colab": {
          "base_uri": "https://localhost:8080/"
        },
        "id": "lZZGO2BjP24u",
        "outputId": "f06a182a-3da8-4697-ce8f-b93cbf916d6b"
      },
      "outputs": [
        {
          "output_type": "execute_result",
          "data": {
            "text/plain": [
              "{0, 1}"
            ]
          },
          "metadata": {},
          "execution_count": 48
        }
      ],
      "source": [
        "set(y_pred)"
      ]
    },
    {
      "cell_type": "code",
      "execution_count": 50,
      "metadata": {
        "colab": {
          "base_uri": "https://localhost:8080/",
          "height": 265
        },
        "id": "98MtW4dwCiAr",
        "outputId": "72c4f3b1-70aa-404f-aec3-3e9e821de0d5"
      },
      "outputs": [
        {
          "output_type": "display_data",
          "data": {
            "image/png": "[encoded data removed]",
            "text/plain": [
              "<Figure size 432x288 with 2 Axes>"
            ]
          },
          "metadata": {
            "needs_background": "light"
          }
        }
      ],
      "source": [
        "from sklearn.metrics import confusion_matrix\n",
        "cm=confusion_matrix(y_test, y_pred, normalize='true')\n",
        "\n",
        "sn.heatmap(cm, annot=True, fmt='2.3f', \n",
        "           yticklabels=[ 'neg','pos'] ,\n",
        "           xticklabels=[ 'neg','pos'] , \n",
        "           cmap='YlGnBu');"
      ]
    },
    {
      "cell_type": "code",
      "execution_count": 51,
      "metadata": {
        "id": "qH-MkDeFqqln"
      },
      "outputs": [],
      "source": [
        "from sklearn.metrics import accuracy_score"
      ]
    },
    {
      "cell_type": "code",
      "execution_count": 52,
      "metadata": {
        "colab": {
          "base_uri": "https://localhost:8080/"
        },
        "id": "8sYj-6xSqv15",
        "outputId": "8d18e57c-b3b8-4694-c31b-0270815605c9"
      },
      "outputs": [
        {
          "output_type": "execute_result",
          "data": {
            "text/plain": [
              "0.6838611641773311"
            ]
          },
          "metadata": {},
          "execution_count": 52
        }
      ],
      "source": [
        "accuracy_score(y_test, y_pred)"
      ]
    },
    {
      "cell_type": "code",
      "execution_count": null,
      "metadata": {
        "id": "-nEzuqG-QoPM"
      },
      "outputs": [],
      "source": [
        ""
      ]
    },
    {
      "cell_type": "code",
      "source": [
        ""
      ],
      "metadata": {
        "id": "JakauwMOXF0C"
      },
      "execution_count": null,
      "outputs": []
    },
    {
      "cell_type": "markdown",
      "source": [
        "##Model_2"
      ],
      "metadata": {
        "id": "IUnur7y5UPjQ"
      }
    },
    {
      "cell_type": "code",
      "source": [
        "from keras.layers import SimpleRNN"
      ],
      "metadata": {
        "id": "XLvKfJO6UVAg"
      },
      "execution_count": 22,
      "outputs": []
    },
    {
      "cell_type": "code",
      "source": [
        "model = Sequential()\n",
        "\n",
        "model.add(Embedding(vocabulary_size, 200, input_length=50, weights=[embedding_matrix], trainable=False))\n",
        "model.add(Dropout(0.2))\n",
        "model.add(SimpleRNN(units = 100, activation='relu',use_bias=True))\n",
        "model.add(Dense(units=1000, input_dim = 2000, activation='sigmoid'))\n",
        "model.add(Dropout(0.1))\n",
        "model.add(Dense(units=500, input_dim=1000, activation='relu'))\n",
        "model.add(Dropout(0.1))\n",
        "model.add(Dense(units=1, input_dim=500,activation='sigmoid'))\n",
        "model.compile(loss='binary_crossentropy', optimizer='adam', metrics=['accuracy'])\n"
      ],
      "metadata": {
        "id": "J5EUyx4cUR8h"
      },
      "execution_count": 26,
      "outputs": []
    },
    {
      "cell_type": "code",
      "source": [
        "model.summary()"
      ],
      "metadata": {
        "colab": {
          "base_uri": "https://localhost:8080/"
        },
        "id": "T2HUWdFrVOND",
        "outputId": "5fcb5958-6b3f-4156-86d9-1f350b1d8832"
      },
      "execution_count": 27,
      "outputs": [
        {
          "output_type": "stream",
          "name": "stdout",
          "text": [
            "Model: \"sequential_1\"\n",
            "_________________________________________________________________\n",
            " Layer (type)                Output Shape              Param #   \n",
            "=================================================================\n",
            " embedding_1 (Embedding)     (None, 50, 200)           40000000  \n",
            "                                                                 \n",
            " dropout_3 (Dropout)         (None, 50, 200)           0         \n",
            "                                                                 \n",
            " simple_rnn_1 (SimpleRNN)    (None, 100)               30100     \n",
            "                                                                 \n",
            " dense_3 (Dense)             (None, 1000)              101000    \n",
            "                                                                 \n",
            " dropout_4 (Dropout)         (None, 1000)              0         \n",
            "                                                                 \n",
            " dense_4 (Dense)             (None, 500)               500500    \n",
            "                                                                 \n",
            " dropout_5 (Dropout)         (None, 500)               0         \n",
            "                                                                 \n",
            " dense_5 (Dense)             (None, 1)                 501       \n",
            "                                                                 \n",
            "=================================================================\n",
            "Total params: 40,632,101\n",
            "Trainable params: 632,101\n",
            "Non-trainable params: 40,000,000\n",
            "_________________________________________________________________\n"
          ]
        }
      ]
    },
    {
      "cell_type": "code",
      "source": [
        "hist_2=model.fit(x_train, y_train, epochs=3, validation_split=.2, batch_size=625)"
      ],
      "metadata": {
        "colab": {
          "base_uri": "https://localhost:8080/"
        },
        "id": "nDdEfYDEVKuN",
        "outputId": "eca363e3-c4f8-427b-97d6-1a9fbc50b027"
      },
      "execution_count": 28,
      "outputs": [
        {
          "output_type": "stream",
          "name": "stdout",
          "text": [
            "Epoch 1/3\n",
            "1638/1638 [==============================] - 599s 365ms/step - loss: 0.5407 - accuracy: 0.7238 - val_loss: 0.4944 - val_accuracy: 0.7578\n",
            "Epoch 2/3\n",
            "1638/1638 [==============================] - 620s 379ms/step - loss: 0.5023 - accuracy: 0.7529 - val_loss: 0.4872 - val_accuracy: 0.7638\n",
            "Epoch 3/3\n",
            "1638/1638 [==============================] - 505s 308ms/step - loss: 0.4929 - accuracy: 0.7595 - val_loss: 0.4778 - val_accuracy: 0.7695\n"
          ]
        }
      ]
    },
    {
      "cell_type": "code",
      "source": [
        "hist_2_2=model.fit(x_train, y_train, epochs=4, validation_split=.2, batch_size=625)"
      ],
      "metadata": {
        "colab": {
          "base_uri": "https://localhost:8080/"
        },
        "id": "FZ09_YlYXSLP",
        "outputId": "0e64dbbb-ce9c-4490-f16c-63b47d9d482e"
      },
      "execution_count": 31,
      "outputs": [
        {
          "output_type": "stream",
          "name": "stdout",
          "text": [
            "Epoch 1/4\n",
            "1638/1638 [==============================] - 468s 286ms/step - loss: 0.4871 - accuracy: 0.7634 - val_loss: 0.4742 - val_accuracy: 0.7718\n",
            "Epoch 2/4\n",
            "1638/1638 [==============================] - 469s 287ms/step - loss: 0.4832 - accuracy: 0.7661 - val_loss: 0.4728 - val_accuracy: 0.7732\n",
            "Epoch 3/4\n",
            "1638/1638 [==============================] - 441s 269ms/step - loss: 0.4804 - accuracy: 0.7678 - val_loss: 0.4701 - val_accuracy: 0.7738\n",
            "Epoch 4/4\n",
            "1638/1638 [==============================] - 496s 303ms/step - loss: 0.4782 - accuracy: 0.7692 - val_loss: 0.4684 - val_accuracy: 0.7752\n"
          ]
        }
      ]
    },
    {
      "cell_type": "markdown",
      "source": [
        "###Visualization of model performance :"
      ],
      "metadata": {
        "id": "FUlq4o_3q0NO"
      }
    },
    {
      "cell_type": "code",
      "source": [
        "train_acc=[]\n",
        "train_acc+=hist_2.history['accuracy']\n",
        "train_acc+=hist_2_2.history['accuracy']"
      ],
      "metadata": {
        "id": "pHePYtroopjp"
      },
      "execution_count": 62,
      "outputs": []
    },
    {
      "cell_type": "code",
      "source": [
        "val_acc=[]\n",
        "val_acc+=hist_2.history['val_accuracy']\n",
        "val_acc+=hist_2_2.history['val_accuracy']"
      ],
      "metadata": {
        "id": "YQhYS3uBpWYv"
      },
      "execution_count": 63,
      "outputs": []
    },
    {
      "cell_type": "code",
      "source": [
        "val_acc"
      ],
      "metadata": {
        "colab": {
          "base_uri": "https://localhost:8080/"
        },
        "id": "s3rg_wIApoY3",
        "outputId": "0d16178a-98bd-408a-a649-a86cb47e9d3a"
      },
      "execution_count": 67,
      "outputs": [
        {
          "output_type": "execute_result",
          "data": {
            "text/plain": [
              "[0.7577589750289917,\n",
              " 0.7637582421302795,\n",
              " 0.7694799900054932,\n",
              " 0.7718445062637329,\n",
              " 0.773196816444397,\n",
              " 0.7738181948661804,\n",
              " 0.7751783132553101]"
            ]
          },
          "metadata": {},
          "execution_count": 67
        }
      ]
    },
    {
      "cell_type": "code",
      "source": [
        "train_acc"
      ],
      "metadata": {
        "colab": {
          "base_uri": "https://localhost:8080/"
        },
        "id": "fU-BmZHgqEyQ",
        "outputId": "06b5a9f2-8a44-4191-b054-d08d5de22c3e"
      },
      "execution_count": 68,
      "outputs": [
        {
          "output_type": "execute_result",
          "data": {
            "text/plain": [
              "[0.7238472700119019,\n",
              " 0.7529348731040955,\n",
              " 0.7594910860061646,\n",
              " 0.7633710503578186,\n",
              " 0.7660609483718872,\n",
              " 0.7678050398826599,\n",
              " 0.7691788077354431]"
            ]
          },
          "metadata": {},
          "execution_count": 68
        }
      ]
    },
    {
      "cell_type": "code",
      "source": [
        "plt.plot(train_acc,label='train acc')\n",
        "plt.plot(val_acc,label='val acc')\n",
        "plt.xlabel('epochs')\n",
        "plt.ylabel('acc')\n",
        "plt.legend(loc='lower right')\n",
        "plt.show();"
      ],
      "metadata": {
        "colab": {
          "base_uri": "https://localhost:8080/",
          "height": 279
        },
        "id": "Wi1skdHYpzdW",
        "outputId": "a3b2d744-5626-4f3f-fea5-6a095c3fda92"
      },
      "execution_count": 66,
      "outputs": [
        {
          "output_type": "display_data",
          "data": {
            "image/png": "[encoded data removed]",
            "text/plain": [
              "<Figure size 432x288 with 1 Axes>"
            ]
          },
          "metadata": {
            "needs_background": "light"
          }
        }
      ]
    },
    {
      "cell_type": "code",
      "source": [
        ""
      ],
      "metadata": {
        "id": "xGx2T_wzqQyH"
      },
      "execution_count": null,
      "outputs": []
    },
    {
      "cell_type": "code",
      "source": [
        ""
      ],
      "metadata": {
        "id": "1Id-I6ZnqQnK"
      },
      "execution_count": null,
      "outputs": []
    },
    {
      "cell_type": "code",
      "source": [
        "train_loss=[]\n",
        "train_loss+=hist_2.history['loss']\n",
        "train_loss+=hist_2_2.history['loss']"
      ],
      "metadata": {
        "id": "9JrWXqQyqRdI"
      },
      "execution_count": 69,
      "outputs": []
    },
    {
      "cell_type": "code",
      "source": [
        "val_loss=[]\n",
        "val_loss+=hist_2.history['val_loss']\n",
        "val_loss+=hist_2_2.history['val_loss']"
      ],
      "metadata": {
        "id": "p8Yua5g9qRdJ"
      },
      "execution_count": 70,
      "outputs": []
    },
    {
      "cell_type": "code",
      "source": [
        "val_loss"
      ],
      "metadata": {
        "colab": {
          "base_uri": "https://localhost:8080/"
        },
        "outputId": "2b981fb9-193e-44ff-c24f-da75987acbd4",
        "id": "pAyZysMLqRdK"
      },
      "execution_count": 71,
      "outputs": [
        {
          "output_type": "execute_result",
          "data": {
            "text/plain": [
              "[0.4944491684436798,\n",
              " 0.4872499704360962,\n",
              " 0.4777746796607971,\n",
              " 0.47418418526649475,\n",
              " 0.4728403091430664,\n",
              " 0.47010537981987,\n",
              " 0.4683606028556824]"
            ]
          },
          "metadata": {},
          "execution_count": 71
        }
      ]
    },
    {
      "cell_type": "code",
      "source": [
        "train_loss"
      ],
      "metadata": {
        "colab": {
          "base_uri": "https://localhost:8080/"
        },
        "outputId": "a9c207e0-6406-4509-8031-9f66274318dd",
        "id": "OQ6Eyb8iqRdM"
      },
      "execution_count": 72,
      "outputs": [
        {
          "output_type": "execute_result",
          "data": {
            "text/plain": [
              "[0.5407240986824036,\n",
              " 0.5022514462471008,\n",
              " 0.49292197823524475,\n",
              " 0.4870526194572449,\n",
              " 0.48318490386009216,\n",
              " 0.4803876280784607,\n",
              " 0.478175550699234]"
            ]
          },
          "metadata": {},
          "execution_count": 72
        }
      ]
    },
    {
      "cell_type": "code",
      "source": [
        "plt.plot(train_loss,label='train loss')\n",
        "plt.plot(val_loss,label='val loss')\n",
        "plt.xlabel('epochs')\n",
        "plt.ylabel('loss')\n",
        "plt.legend(loc='upper right')\n",
        "plt.show();"
      ],
      "metadata": {
        "colab": {
          "base_uri": "https://localhost:8080/",
          "height": 279
        },
        "outputId": "ae8cd173-4b47-4a11-e01b-060d040a42de",
        "id": "2bNI1IvgqRdM"
      },
      "execution_count": 74,
      "outputs": [
        {
          "output_type": "display_data",
          "data": {
            "image/png": "[encoded data removed]",
            "text/plain": [
              "<Figure size 432x288 with 1 Axes>"
            ]
          },
          "metadata": {
            "needs_background": "light"
          }
        }
      ]
    },
    {
      "cell_type": "code",
      "source": [
        "model.save('/content/drive/MyDrive/MachineLearning/NLP/Glove_embedding_2_2')"
      ],
      "metadata": {
        "colab": {
          "base_uri": "https://localhost:8080/"
        },
        "id": "fh2Sll3Gmr6T",
        "outputId": "7183a429-4640-4f71-9402-813ceabbcaf3"
      },
      "execution_count": 53,
      "outputs": [
        {
          "output_type": "stream",
          "name": "stdout",
          "text": [
            "INFO:tensorflow:Assets written to: /content/drive/MyDrive/MachineLearning/NLP/Glove_embedding_2_2/assets\n"
          ]
        }
      ]
    },
    {
      "cell_type": "markdown",
      "metadata": {
        "id": "3ay-uSrLXSi0"
      },
      "source": [
        "#Score:"
      ]
    },
    {
      "cell_type": "code",
      "execution_count": 32,
      "metadata": {
        "id": "_lUMl5qTXSi1"
      },
      "outputs": [],
      "source": [
        "pred=model.predict(x_test)\n"
      ]
    },
    {
      "cell_type": "code",
      "execution_count": 33,
      "metadata": {
        "id": "XH8K7qufXSi2"
      },
      "outputs": [],
      "source": [
        "pred=pred.reshape(pred.shape[0])"
      ]
    },
    {
      "cell_type": "code",
      "execution_count": 34,
      "metadata": {
        "id": "CkT8NfuKXSi3"
      },
      "outputs": [],
      "source": [
        "def step(x):\n",
        "  if x>.5:\n",
        "    return 1\n",
        "  elif x<.5:\n",
        "    return 0"
      ]
    },
    {
      "cell_type": "code",
      "execution_count": 35,
      "metadata": {
        "id": "gOuBqjziXSi3"
      },
      "outputs": [],
      "source": [
        "y_pred=list(map(step, pred))\n"
      ]
    },
    {
      "cell_type": "code",
      "execution_count": 36,
      "metadata": {
        "colab": {
          "base_uri": "https://localhost:8080/"
        },
        "outputId": "436d7bdd-81a3-4f6e-cb91-90f1b3085070",
        "id": "wA26-8cHXSi4"
      },
      "outputs": [
        {
          "output_type": "execute_result",
          "data": {
            "text/plain": [
              "{0, 1}"
            ]
          },
          "metadata": {},
          "execution_count": 36
        }
      ],
      "source": [
        "set(y_pred)"
      ]
    },
    {
      "cell_type": "code",
      "source": [
        "le.inverse_transform(np.array([0]))"
      ],
      "metadata": {
        "colab": {
          "base_uri": "https://localhost:8080/"
        },
        "outputId": "49671162-60c1-4e07-af10-9e5034b21225",
        "id": "XD3NhEpdXSi5"
      },
      "execution_count": 37,
      "outputs": [
        {
          "output_type": "execute_result",
          "data": {
            "text/plain": [
              "array(['negative'], dtype=object)"
            ]
          },
          "metadata": {},
          "execution_count": 37
        }
      ]
    },
    {
      "cell_type": "code",
      "execution_count": 38,
      "metadata": {
        "colab": {
          "base_uri": "https://localhost:8080/",
          "height": 265
        },
        "outputId": "3b833eb7-8c65-4a2a-8f80-085fc7f0df8b",
        "id": "iP4OatXbXSi6"
      },
      "outputs": [
        {
          "output_type": "display_data",
          "data": {
            "image/png": "[encoded data removed]",
            "text/plain": [
              "<Figure size 432x288 with 2 Axes>"
            ]
          },
          "metadata": {
            "needs_background": "light"
          }
        }
      ],
      "source": [
        "from sklearn.metrics import confusion_matrix\n",
        "cm=confusion_matrix(y_test, y_pred, normalize='true')\n",
        "\n",
        "sn.heatmap(cm, annot=True, fmt='2.3f', \n",
        "           yticklabels=[ 'neg','pos'] ,\n",
        "           xticklabels=[ 'neg','pos'] , \n",
        "           cmap='YlGnBu');"
      ]
    },
    {
      "cell_type": "code",
      "execution_count": 39,
      "metadata": {
        "id": "UXbOCc1hXSi7"
      },
      "outputs": [],
      "source": [
        "from sklearn.metrics import accuracy_score"
      ]
    },
    {
      "cell_type": "code",
      "execution_count": 40,
      "metadata": {
        "colab": {
          "base_uri": "https://localhost:8080/"
        },
        "outputId": "b5e0d795-0aae-4b28-91c8-77eecd64409f",
        "id": "UzVBaqMQXSi8"
      },
      "outputs": [
        {
          "output_type": "execute_result",
          "data": {
            "text/plain": [
              "0.7737398813748511"
            ]
          },
          "metadata": {},
          "execution_count": 40
        }
      ],
      "source": [
        "accuracy_score(y_test, y_pred)"
      ]
    },
    {
      "cell_type": "code",
      "execution_count": null,
      "metadata": {
        "id": "GbDvh7F0XSi9"
      },
      "outputs": [],
      "source": [
        ""
      ]
    }
  ],
  "metadata": {
    "colab": {
      "collapsed_sections": [
        "Ys4XJD4J8VWh",
        "jBd3DzCM5-px",
        "bVnZiUEMltoG",
        "r8QvJzlrmpHn"
      ],
      "name": "2_Tweet Sentiment_Prertrained_Glove.ipynb",
      "provenance": [],
      "toc_visible": true,
      "mount_file_id": "1VvzgMptIAqdLyrCzya9wTnwi7nFALTOn",
      "authorship_tag": "ABX9TyNOka+TDdiqunIeEWM0nO45",
      "include_colab_link": true
    },
    "kernelspec": {
      "display_name": "Python 3",
      "name": "python3"
    },
    "language_info": {
      "name": "python"
    }
  },
  "nbformat": 4,
  "nbformat_minor": 0
}
