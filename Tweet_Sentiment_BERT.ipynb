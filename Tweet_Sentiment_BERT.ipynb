{
  "cells": [
    {
      "cell_type": "markdown",
      "metadata": {
        "id": "view-in-github",
        "colab_type": "text"
      },
      "source": [
        "<a href=\"https://colab.research.google.com/github/Sedighe-Raeisi/NLP-Sentiment-Analysis-/blob/main/Tweet_Sentiment_BERT.ipynb\" target=\"_parent\"><img src=\"https://colab.research.google.com/assets/colab-badge.svg\" alt=\"Open In Colab\"/></a>"
      ]
    },
    {
      "cell_type": "code",
      "execution_count": 1,
      "metadata": {
        "id": "pn1YTc6Nu52d"
      },
      "outputs": [],
      "source": [
        "import pandas as pd\n",
        "import numpy as np\n",
        "import matplotlib.pyplot as plt\n",
        "import seaborn as sn\n",
        "import tensorflow as tf"
      ]
    },
    {
      "cell_type": "code",
      "execution_count": 2,
      "metadata": {
        "colab": {
          "base_uri": "https://localhost:8080/"
        },
        "id": "VydYW9t09XuE",
        "outputId": "d6b35779-641f-4201-995f-c52545c50b05"
      },
      "outputs": [
        {
          "output_type": "stream",
          "name": "stdout",
          "text": [
            "Mounted at /content/drive\n"
          ]
        }
      ],
      "source": [
        "from google.colab import drive\n",
        "drive.mount('/content/drive')"
      ]
    },
    {
      "cell_type": "code",
      "execution_count": 3,
      "metadata": {
        "id": "U9zmcExRNqf2"
      },
      "outputs": [],
      "source": [
        "path='/content/drive/MyDrive/MachineLearning/NLP/training.1600000.processed.noemoticon.csv'\n",
        "df=pd.read_csv(path)"
      ]
    },
    {
      "cell_type": "markdown",
      "metadata": {
        "id": "qegJFyRQVAy8"
      },
      "source": [
        "#Data Visualization "
      ]
    },
    {
      "cell_type": "code",
      "execution_count": null,
      "metadata": {
        "id": "Zk0Ku5MdOO7B"
      },
      "outputs": [],
      "source": [
        "neg=len(df[df['sentiment']=='negative'])\n",
        "pos=len(df[df['sentiment']=='positive'])"
      ]
    },
    {
      "cell_type": "code",
      "execution_count": null,
      "metadata": {
        "colab": {
          "base_uri": "https://localhost:8080/",
          "height": 248
        },
        "id": "xlqrjW43Nwpr",
        "outputId": "15d6aa8a-5827-4214-b494-eda40ed060e2"
      },
      "outputs": [
        {
          "data": {
            "image/png": "[encoded data removed]",
            "text/plain": [
              "<Figure size 432x288 with 1 Axes>"
            ]
          },
          "metadata": {},
          "output_type": "display_data"
        }
      ],
      "source": [
        "plt.pie([neg,pos],labels=['negative tweets','positive tweets'], autopct='%2.1f%%');"
      ]
    },
    {
      "cell_type": "markdown",
      "metadata": {
        "id": "MMA6t9t-5rFA"
      },
      "source": [
        "#Importing data from link:\n",
        "https://www.kaggle.com/kazanova/sentiment140"
      ]
    },
    {
      "cell_type": "code",
      "execution_count": null,
      "metadata": {
        "id": "7JOaLyf2w8pT"
      },
      "outputs": [],
      "source": [
        "!pip install kaggle"
      ]
    },
    {
      "cell_type": "code",
      "execution_count": null,
      "metadata": {
        "id": "63cUUvuKxWa9"
      },
      "outputs": [],
      "source": [
        "!mkdir  -p /root/.kaggle/"
      ]
    },
    {
      "cell_type": "code",
      "execution_count": null,
      "metadata": {
        "id": "UyE7a-V_yD2k"
      },
      "outputs": [],
      "source": [
        "!cp /content/drive/MyDrive/MachineLearning/kaggle.json -r /root/.kaggle/"
      ]
    },
    {
      "cell_type": "code",
      "execution_count": null,
      "metadata": {
        "id": "tZopI2n2yO7H"
      },
      "outputs": [],
      "source": [
        "!chmod 600 ~ /root/.kaggle/kaggle.json"
      ]
    },
    {
      "cell_type": "code",
      "execution_count": null,
      "metadata": {
        "id": "sWhWKAGZzSWY"
      },
      "outputs": [],
      "source": [
        "! kaggle datasets list"
      ]
    },
    {
      "cell_type": "code",
      "execution_count": null,
      "metadata": {
        "colab": {
          "base_uri": "https://localhost:8080/"
        },
        "id": "WWGEgWdgw6kx",
        "outputId": "aabc97fd-d469-4c8e-eba9-83a29c71b051"
      },
      "outputs": [
        {
          "name": "stdout",
          "output_type": "stream",
          "text": [
            "Downloading sentiment140.zip to /content\n",
            " 96% 78.0M/80.9M [00:00<00:00, 151MB/s]\n",
            "100% 80.9M/80.9M [00:00<00:00, 149MB/s]\n"
          ]
        }
      ],
      "source": [
        "!kaggle datasets download -d kazanova/sentiment140"
      ]
    },
    {
      "cell_type": "code",
      "execution_count": null,
      "metadata": {
        "id": "KrftmvH5y0qw"
      },
      "outputs": [],
      "source": [
        "!cp /content/sentiment140.zip -r /content/drive/MyDrive/MachineLearning/NLP"
      ]
    },
    {
      "cell_type": "code",
      "execution_count": null,
      "metadata": {
        "colab": {
          "base_uri": "https://localhost:8080/"
        },
        "id": "W73TLnr-0wqA",
        "outputId": "a9fcfe13-6f23-4cc1-caf1-5e9fb6b6438a"
      },
      "outputs": [
        {
          "name": "stdout",
          "output_type": "stream",
          "text": [
            "Archive:  /content/drive/MyDrive/MachineLearning/NLP/sentiment140.zip\n",
            "  inflating: /content/drive/MyDrive/MachineLearning/NLP/training.1600000.processed.noemoticon.csv  \n"
          ]
        }
      ],
      "source": [
        "!unzip /content/drive/MyDrive/MachineLearning/NLP/sentiment140.zip -d /content/drive/MyDrive/MachineLearning/NLP"
      ]
    },
    {
      "cell_type": "markdown",
      "metadata": {
        "id": "QO8UYjGE6DhI"
      },
      "source": [
        "##Preparing the dataframe"
      ]
    },
    {
      "cell_type": "code",
      "execution_count": null,
      "metadata": {
        "id": "LpS8A3uz01VR"
      },
      "outputs": [],
      "source": [
        "path='/content/drive/MyDrive/MachineLearning/NLP/training.1600000.processed.noemoticon.csv'\n",
        "data=pd.read_csv(path\n",
        "               ,encoding='latin-1'\n",
        "               )"
      ]
    },
    {
      "cell_type": "code",
      "execution_count": null,
      "metadata": {
        "colab": {
          "base_uri": "https://localhost:8080/"
        },
        "id": "GxKnLpPI7ar3",
        "outputId": "d46df817-3e96-44d5-8b80-a7fd309c6380"
      },
      "outputs": [
        {
          "data": {
            "text/plain": [
              "Index(['Unnamed: 0', 'sentiment', 'tweet', 'clean'], dtype='object')"
            ]
          },
          "execution_count": 3,
          "metadata": {},
          "output_type": "execute_result"
        }
      ],
      "source": [
        "data.columns"
      ]
    },
    {
      "cell_type": "code",
      "execution_count": null,
      "metadata": {
        "id": "B_Zhd7eq73k2"
      },
      "outputs": [],
      "source": [
        "set(data['0'])"
      ]
    },
    {
      "cell_type": "code",
      "execution_count": null,
      "metadata": {
        "id": "NeZGSIF_2H3A"
      },
      "outputs": [],
      "source": [
        "df=pd.DataFrame()"
      ]
    },
    {
      "cell_type": "code",
      "execution_count": null,
      "metadata": {
        "id": "Lc3dEq5d6tjr"
      },
      "outputs": [],
      "source": [
        "def sentiment(x):\n",
        "  if x==4:\n",
        "    return 'positive'\n",
        "  elif x==0:\n",
        "    return 'negative'"
      ]
    },
    {
      "cell_type": "code",
      "execution_count": null,
      "metadata": {
        "id": "ziwJQEg34sdf"
      },
      "outputs": [],
      "source": [
        "df['sentiment']=data['0'].apply(lambda x: sentiment(x) )"
      ]
    },
    {
      "cell_type": "code",
      "execution_count": null,
      "metadata": {
        "id": "g8cl_-0p41b4"
      },
      "outputs": [],
      "source": [
        "df['tweet']=data.iloc[:,5]"
      ]
    },
    {
      "cell_type": "code",
      "execution_count": null,
      "metadata": {
        "id": "AA-DiqFQ29VR"
      },
      "outputs": [],
      "source": [
        "del data"
      ]
    },
    {
      "cell_type": "code",
      "execution_count": null,
      "metadata": {
        "id": "FlReHbsG3MzA"
      },
      "outputs": [],
      "source": [
        "df.head(2)"
      ]
    },
    {
      "cell_type": "code",
      "execution_count": null,
      "metadata": {
        "id": "S3xmf4hU5Bfu"
      },
      "outputs": [],
      "source": [
        "df.isnull().sum()"
      ]
    },
    {
      "cell_type": "code",
      "execution_count": null,
      "metadata": {
        "id": "GkeeYumb5GYj"
      },
      "outputs": [],
      "source": [
        "(set(df['sentiment']))"
      ]
    },
    {
      "cell_type": "markdown",
      "metadata": {
        "id": "AQTDoFRk8K5a"
      },
      "source": [
        "#Preprocessing:"
      ]
    },
    {
      "cell_type": "markdown",
      "metadata": {
        "id": "plbGOqPw9Sk7"
      },
      "source": [
        "\n",
        "##Preprocessing Tweets:"
      ]
    },
    {
      "cell_type": "code",
      "execution_count": null,
      "metadata": {
        "colab": {
          "base_uri": "https://localhost:8080/"
        },
        "id": "ojuBi3eIuRIn",
        "outputId": "b9ef00b2-27c0-46a1-b177-63f6b689ef53"
      },
      "outputs": [
        {
          "data": {
            "text/html": [
              "<div>\n",
              "<style scoped>\n",
              "    .dataframe tbody tr th:only-of-type {\n",
              "        vertical-align: middle;\n",
              "    }\n",
              "\n",
              "    .dataframe tbody tr th {\n",
              "        vertical-align: top;\n",
              "    }\n",
              "\n",
              "    .dataframe thead th {\n",
              "        text-align: right;\n",
              "    }\n",
              "</style>\n",
              "<table border=\"1\" class=\"dataframe\">\n",
              "  <thead>\n",
              "    <tr style=\"text-align: right;\">\n",
              "      <th></th>\n",
              "      <th>sentiment</th>\n",
              "      <th>tweet</th>\n",
              "    </tr>\n",
              "  </thead>\n",
              "  <tbody>\n",
              "    <tr>\n",
              "      <th>0</th>\n",
              "      <td>negative</td>\n",
              "      <td>is upset that he can't update his Facebook by ...</td>\n",
              "    </tr>\n",
              "    <tr>\n",
              "      <th>1</th>\n",
              "      <td>negative</td>\n",
              "      <td>@Kenichan I dived many times for the ball. Man...</td>\n",
              "    </tr>\n",
              "    <tr>\n",
              "      <th>2</th>\n",
              "      <td>negative</td>\n",
              "      <td>my whole body feels itchy and like its on fire</td>\n",
              "    </tr>\n",
              "    <tr>\n",
              "      <th>3</th>\n",
              "      <td>negative</td>\n",
              "      <td>@nationwideclass no, it's not behaving at all....</td>\n",
              "    </tr>\n",
              "    <tr>\n",
              "      <th>4</th>\n",
              "      <td>negative</td>\n",
              "      <td>@Kwesidei not the whole crew</td>\n",
              "    </tr>\n",
              "  </tbody>\n",
              "</table>\n",
              "</div>"
            ],
            "text/plain": [
              "  sentiment                                              tweet\n",
              "0  negative  is upset that he can't update his Facebook by ...\n",
              "1  negative  @Kenichan I dived many times for the ball. Man...\n",
              "2  negative    my whole body feels itchy and like its on fire \n",
              "3  negative  @nationwideclass no, it's not behaving at all....\n",
              "4  negative                      @Kwesidei not the whole crew "
            ]
          },
          "execution_count": 21,
          "metadata": {},
          "output_type": "execute_result"
        }
      ],
      "source": [
        "df.head()"
      ]
    },
    {
      "cell_type": "code",
      "execution_count": null,
      "metadata": {
        "id": "LLYdL3spzOUn"
      },
      "outputs": [],
      "source": [
        "import nltk\n",
        "from nltk.tokenize import RegexpTokenizer\n",
        "from nltk.stem import WordNetLemmatizer,PorterStemmer\n",
        "from nltk.corpus import stopwords\n",
        "import re"
      ]
    },
    {
      "cell_type": "code",
      "execution_count": null,
      "metadata": {
        "id": "QCAkPPAzzI_y"
      },
      "outputs": [],
      "source": [
        "\n",
        "lemmatizer = WordNetLemmatizer()\n",
        "stemmer = PorterStemmer() \n",
        "\n",
        "def preprocess(sentence):\n",
        "  sentence=str(sentence)\n",
        "  sentence = sentence.lower()\n",
        "  sentence=sentence.replace('{html}',\"\") \n",
        "  sentence=sentence.replace('{@}',\"\")\n",
        "  cleanr = re.compile('<.*?>')\n",
        "  cleantext = re.sub(cleanr, '', sentence)\n",
        "  rem_url=re.sub(r'http\\S+', '',cleantext)\n",
        "  rem_num = re.sub('[0-9]+', '', rem_url)\n",
        "  tokenizer = RegexpTokenizer(r'\\w+')\n",
        "  tokens = tokenizer.tokenize(rem_num)  \n",
        "  filtered_words = [w for w in tokens if len(w) > 2 if not w in stopwords.words('english')]\n",
        "  stem_words=[stemmer.stem(w) for w in filtered_words]\n",
        "  lemma_words=[lemmatizer.lemmatize(w) for w in stem_words]\n",
        "  return \" \".join(filtered_words)"
      ]
    },
    {
      "cell_type": "code",
      "execution_count": null,
      "metadata": {
        "colab": {
          "base_uri": "https://localhost:8080/"
        },
        "id": "N21gxTq70RLx",
        "outputId": "cbd0a106-921c-491f-ad2b-bc801b631ca9"
      },
      "outputs": [
        {
          "name": "stdout",
          "output_type": "stream",
          "text": [
            "[nltk_data] Downloading package stopwords to /root/nltk_data...\n",
            "[nltk_data]   Unzipping corpora/stopwords.zip.\n",
            "[nltk_data] Downloading package wordnet to /root/nltk_data...\n",
            "[nltk_data]   Unzipping corpora/wordnet.zip.\n"
          ]
        },
        {
          "data": {
            "text/plain": [
              "True"
            ]
          },
          "execution_count": 17,
          "metadata": {},
          "output_type": "execute_result"
        }
      ],
      "source": [
        "nltk.download('stopwords')\n",
        "nltk.download('wordnet')"
      ]
    },
    {
      "cell_type": "code",
      "execution_count": null,
      "metadata": {
        "id": "8mRR6R6mzyNZ"
      },
      "outputs": [],
      "source": [
        "df['clean']=df['tweet'].apply(lambda x: preprocess(x))"
      ]
    },
    {
      "cell_type": "code",
      "execution_count": null,
      "metadata": {
        "id": "AFo5zzeVDi3y"
      },
      "outputs": [],
      "source": [
        "df.to_csv(path)"
      ]
    },
    {
      "cell_type": "code",
      "execution_count": null,
      "metadata": {
        "colab": {
          "base_uri": "https://localhost:8080/"
        },
        "id": "kNMpci43ez8P",
        "outputId": "74bab0d8-14e1-4cfa-9bfd-ebabd094ab1d"
      },
      "outputs": [
        {
          "data": {
            "text/plain": [
              "Unnamed: 0      0\n",
              "sentiment       0\n",
              "tweet           0\n",
              "clean         844\n",
              "dtype: int64"
            ]
          },
          "execution_count": 14,
          "metadata": {},
          "output_type": "execute_result"
        }
      ],
      "source": [
        "df.isnull().sum()"
      ]
    },
    {
      "cell_type": "code",
      "execution_count": null,
      "metadata": {
        "id": "rtE662iGYDqV"
      },
      "outputs": [],
      "source": [
        "path='/content/drive/MyDrive/MachineLearning/NLP/training.1600000.processed.noemoticon.csv'\n",
        "df=pd.read_csv(path)"
      ]
    },
    {
      "cell_type": "code",
      "execution_count": null,
      "metadata": {
        "colab": {
          "base_uri": "https://localhost:8080/"
        },
        "id": "D7iHq9vR4qzS",
        "outputId": "a7e44bb3-8ec2-421b-feaf-289577425447"
      },
      "outputs": [
        {
          "data": {
            "text/plain": [
              "Unnamed: 0      0\n",
              "sentiment       0\n",
              "tweet           0\n",
              "clean         844\n",
              "dtype: int64"
            ]
          },
          "execution_count": 5,
          "metadata": {},
          "output_type": "execute_result"
        }
      ],
      "source": [
        "df.isnull().sum()"
      ]
    },
    {
      "cell_type": "code",
      "execution_count": null,
      "metadata": {
        "id": "OwKqHPXC4x1H"
      },
      "outputs": [],
      "source": [
        "df.dropna(inplace=True)"
      ]
    },
    {
      "cell_type": "code",
      "execution_count": null,
      "metadata": {
        "id": "JE0aoHGCplru"
      },
      "outputs": [],
      "source": [
        ""
      ]
    },
    {
      "cell_type": "markdown",
      "metadata": {
        "id": "Ys4XJD4J8VWh"
      },
      "source": [
        "\n",
        "##Preprocessing labels"
      ]
    },
    {
      "cell_type": "code",
      "execution_count": 4,
      "metadata": {
        "id": "scu8cpmye6Ui"
      },
      "outputs": [],
      "source": [
        "df.dropna(inplace=True)"
      ]
    },
    {
      "cell_type": "code",
      "execution_count": 5,
      "metadata": {
        "id": "5-8obSyF5OuV"
      },
      "outputs": [],
      "source": [
        "from sklearn.preprocessing import LabelEncoder "
      ]
    },
    {
      "cell_type": "code",
      "execution_count": 6,
      "metadata": {
        "id": "aQQv8BfN8-Kt"
      },
      "outputs": [],
      "source": [
        "le=LabelEncoder()"
      ]
    },
    {
      "cell_type": "code",
      "execution_count": 7,
      "metadata": {
        "id": "dazOLJJO9Fsl"
      },
      "outputs": [],
      "source": [
        "y=le.fit_transform(df['sentiment'])"
      ]
    },
    {
      "cell_type": "code",
      "execution_count": 8,
      "metadata": {
        "colab": {
          "base_uri": "https://localhost:8080/"
        },
        "id": "_5V06qou9Mak",
        "outputId": "03c22ecb-f8be-427b-ded4-89203bd870ba"
      },
      "outputs": [
        {
          "output_type": "execute_result",
          "data": {
            "text/plain": [
              "array([0, 0, 0, ..., 1, 1, 1])"
            ]
          },
          "metadata": {},
          "execution_count": 8
        }
      ],
      "source": [
        "y"
      ]
    },
    {
      "cell_type": "markdown",
      "metadata": {
        "id": "-nnuz7Vkpqrw"
      },
      "source": [
        "# X"
      ]
    },
    {
      "cell_type": "code",
      "execution_count": 9,
      "metadata": {
        "id": "xdJ0kHELgVGK"
      },
      "outputs": [],
      "source": [
        "x=df['clean']"
      ]
    },
    {
      "cell_type": "code",
      "execution_count": 9,
      "metadata": {
        "id": "SbYGfqKQC2Zi"
      },
      "outputs": [],
      "source": [
        ""
      ]
    },
    {
      "cell_type": "markdown",
      "metadata": {
        "id": "B6W4s92dC3Oi"
      },
      "source": [
        "#Small Bert"
      ]
    },
    {
      "cell_type": "code",
      "execution_count": 10,
      "metadata": {
        "colab": {
          "base_uri": "https://localhost:8080/"
        },
        "id": "XZQIt94qC3Oj",
        "outputId": "acb7ac9a-f00a-4f0f-c479-5a146457af3e"
      },
      "outputs": [
        {
          "output_type": "stream",
          "name": "stdout",
          "text": [
            "\u001b[K     |████████████████████████████████| 4.9 MB 3.4 MB/s \n",
            "\u001b[?25h"
          ]
        }
      ],
      "source": [
        "!pip install -q -U tensorflow-text"
      ]
    },
    {
      "cell_type": "code",
      "execution_count": 11,
      "metadata": {
        "id": "xmE_sSf4C3Ok",
        "colab": {
          "base_uri": "https://localhost:8080/"
        },
        "outputId": "6846666d-d3b5-4579-8b5e-e4b34ec29876"
      },
      "outputs": [
        {
          "output_type": "stream",
          "name": "stdout",
          "text": [
            "\u001b[K     |████████████████████████████████| 1.8 MB 4.4 MB/s \n",
            "\u001b[K     |████████████████████████████████| 352 kB 63.1 MB/s \n",
            "\u001b[K     |████████████████████████████████| 47.6 MB 1.9 MB/s \n",
            "\u001b[K     |████████████████████████████████| 1.2 MB 43.8 MB/s \n",
            "\u001b[K     |████████████████████████████████| 596 kB 26.7 MB/s \n",
            "\u001b[K     |████████████████████████████████| 213 kB 47.3 MB/s \n",
            "\u001b[K     |████████████████████████████████| 90 kB 7.6 MB/s \n",
            "\u001b[K     |████████████████████████████████| 43 kB 1.5 MB/s \n",
            "\u001b[K     |████████████████████████████████| 99 kB 7.9 MB/s \n",
            "\u001b[K     |████████████████████████████████| 1.1 MB 49.7 MB/s \n",
            "\u001b[?25h  Building wheel for py-cpuinfo (setup.py) ... \u001b[?25l\u001b[?25hdone\n",
            "  Building wheel for seqeval (setup.py) ... \u001b[?25l\u001b[?25hdone\n"
          ]
        }
      ],
      "source": [
        "!pip install -q tf-models-official"
      ]
    },
    {
      "cell_type": "code",
      "execution_count": 12,
      "metadata": {
        "id": "1SF6oC3QC3Ol"
      },
      "outputs": [],
      "source": [
        "import os\n",
        "import shutil\n",
        "\n",
        "import tensorflow as tf\n",
        "import tensorflow_hub as hub\n",
        "import tensorflow_text as text\n",
        "from official.nlp import optimization  # to create AdamW optimizer\n"
      ]
    },
    {
      "cell_type": "markdown",
      "metadata": {
        "id": "hdqLrTK5C3Oq"
      },
      "source": [
        "##Small Bert 128:"
      ]
    },
    {
      "cell_type": "markdown",
      "source": [
        "Preprocess:"
      ],
      "metadata": {
        "id": "kJXdVT4w8LtU"
      }
    },
    {
      "cell_type": "code",
      "execution_count": 13,
      "metadata": {
        "id": "mt43v53YC3On"
      },
      "outputs": [],
      "source": [
        "map_model_to_preprocess={\n",
        "    # 'small_bert/bert_en_uncased_L-2_H-512_A-8':\n",
        "    #     'https://tfhub.dev/tensorflow/bert_en_uncased_preprocess/3'\n",
        "    'small_bert/bert_en_uncased_L-2_H-128_A-2':\n",
        "        'https://tfhub.dev/tensorflow/bert_en_uncased_preprocess/3'\n",
        "        }"
      ]
    },
    {
      "cell_type": "code",
      "source": [
        "tfhub_handle_preprocess = map_model_to_preprocess[\n",
        "                                                  # 'small_bert/bert_en_uncased_L-2_H-512_A-8'\n",
        "                                                  'small_bert/bert_en_uncased_L-2_H-128_A-2'\n",
        "                                                  ]"
      ],
      "metadata": {
        "id": "y6_uKFte9qu-"
      },
      "execution_count": 14,
      "outputs": []
    },
    {
      "cell_type": "code",
      "execution_count": 15,
      "metadata": {
        "id": "IMoOFtxAC3Or"
      },
      "outputs": [],
      "source": [
        "bert_preprocess_model = hub.KerasLayer(tfhub_handle_preprocess)"
      ]
    },
    {
      "cell_type": "markdown",
      "source": [
        "Model:"
      ],
      "metadata": {
        "id": "ajyj-wzF8N7i"
      }
    },
    {
      "cell_type": "code",
      "execution_count": 16,
      "metadata": {
        "id": "AsYJdw5GC3Op"
      },
      "outputs": [],
      "source": [
        "map_name_to_handle={\n",
        "    # 'small_bert/bert_en_uncased_L-2_H-512_A-8':\n",
        "    #     'https://tfhub.dev/tensorflow/small_bert/bert_en_uncased_L-2_H-512_A-8/1'\n",
        "    'small_bert/bert_en_uncased_L-2_H-128_A-2':\n",
        "        'https://tfhub.dev/tensorflow/small_bert/bert_en_uncased_L-2_H-128_A-2/1'\n",
        "        }"
      ]
    },
    {
      "cell_type": "code",
      "execution_count": 17,
      "metadata": {
        "id": "64mh8TBtC3Op"
      },
      "outputs": [],
      "source": [
        "tfhub_handle_encoder = map_name_to_handle[\n",
        "                                          # 'small_bert/bert_en_uncased_L-2_H-512_A-8'\n",
        "                                          'small_bert/bert_en_uncased_L-2_H-128_A-2'\n",
        "                                          ]\n"
      ]
    },
    {
      "cell_type": "code",
      "execution_count": 18,
      "metadata": {
        "id": "Rn-kuMR7faOx"
      },
      "outputs": [],
      "source": [
        "bert_model = hub.KerasLayer(tfhub_handle_encoder)"
      ]
    },
    {
      "cell_type": "markdown",
      "metadata": {
        "id": "EQAE6eXQm5Xv"
      },
      "source": [
        "#Train Test Split"
      ]
    },
    {
      "cell_type": "code",
      "execution_count": 19,
      "metadata": {
        "id": "H7OzDoqnnBEr"
      },
      "outputs": [],
      "source": [
        "from sklearn.model_selection import train_test_split"
      ]
    },
    {
      "cell_type": "markdown",
      "metadata": {
        "id": "v-miY-cNPiKy"
      },
      "source": [
        "I decreased the size of dataset, to have an acceptable training time length."
      ]
    },
    {
      "cell_type": "code",
      "execution_count": 66,
      "metadata": {
        "id": "vWfTQTmjD7ww"
      },
      "outputs": [],
      "source": [
        "x_used, x_unused, y_used, y_unused=train_test_split(x,y, test_size=\n",
        "                                                    .5\n",
        "                                                    # .95\n",
        "                                                    , stratify=y, random_state=48)"
      ]
    },
    {
      "cell_type": "code",
      "execution_count": 67,
      "metadata": {
        "id": "cJk7upxwfaSz"
      },
      "outputs": [],
      "source": [
        "x_train, x_test, y_train, y_test=train_test_split(x_used,y_used, test_size=.2, stratify=y_used, random_state=47)"
      ]
    },
    {
      "cell_type": "code",
      "execution_count": 22,
      "metadata": {
        "colab": {
          "base_uri": "https://localhost:8080/"
        },
        "id": "DTD9N5VKnX9K",
        "outputId": "818eaf68-a066-4574-e738-881961b10fb3"
      },
      "outputs": [
        {
          "output_type": "stream",
          "name": "stdout",
          "text": [
            "x_train=(63965,) , y_train=(63965,)\n",
            "x_test=(15992,) , y_test=(15992,) \n"
          ]
        }
      ],
      "source": [
        "print(f'x_train={x_train.shape} , y_train={y_train.shape}\\nx_test={x_test.shape} , y_test={y_test.shape} ')"
      ]
    },
    {
      "cell_type": "markdown",
      "metadata": {
        "id": "RJs8pM0sfnH4"
      },
      "source": [
        "#(smal bert) bert Model: "
      ]
    },
    {
      "cell_type": "code",
      "execution_count": null,
      "metadata": {
        "id": "zZZv4dpUfaLw"
      },
      "outputs": [],
      "source": [
        ""
      ]
    },
    {
      "cell_type": "markdown",
      "metadata": {
        "id": "zyVsls_Dghnd"
      },
      "source": [
        "###Model:"
      ]
    },
    {
      "cell_type": "code",
      "execution_count": 23,
      "metadata": {
        "id": "JwI3kdqifaJR"
      },
      "outputs": [],
      "source": [
        "from keras.models import Sequential\n",
        "from keras.layers import Input, Dense, Dropout"
      ]
    },
    {
      "cell_type": "code",
      "execution_count": 27,
      "metadata": {
        "id": "VvABvekufaG8"
      },
      "outputs": [],
      "source": [
        "def build_classifier_model():\n",
        "  text_input = Input(shape=(), dtype=tf.string, name='text')\n",
        "  preprocessing_layer = hub.KerasLayer(tfhub_handle_preprocess, name='preprocessing')\n",
        "  encoder_inputs = preprocessing_layer(text_input)\n",
        "  encoder = hub.KerasLayer(tfhub_handle_encoder, trainable=True, name='BERT_encoder')\n",
        "  outputs = encoder(encoder_inputs)\n",
        "  net = outputs['pooled_output']\n",
        "  net = Dropout(0.2, name='Dropout1')(net)\n",
        "  net = Dense(64, activation='relu',name='Dense_1')(net)\n",
        "  net = Dropout(0.2, name='Dropout2')(net)\n",
        "  net = Dense(32, activation='relu',name='Dense_2')(net)\n",
        "  net = Dropout(0.2, name='Dropout3')(net)\n",
        "  net = Dense(1, activation='sigmoid', name='classifier')(net)\n",
        "  return tf.keras.Model(text_input, net)"
      ]
    },
    {
      "cell_type": "code",
      "execution_count": 28,
      "metadata": {
        "id": "VCUHsrmkfaBi"
      },
      "outputs": [],
      "source": [
        "classifier_model = build_classifier_model()"
      ]
    },
    {
      "cell_type": "code",
      "execution_count": 29,
      "metadata": {
        "colab": {
          "base_uri": "https://localhost:8080/",
          "height": 856
        },
        "id": "gmaioEcdfZ-N",
        "outputId": "623a2eb3-54de-4e89-a7fd-c72f28f16b73"
      },
      "outputs": [
        {
          "output_type": "execute_result",
          "data": {
            "image/png": "[encoded data removed]",
            "text/plain": [
              "<IPython.core.display.Image object>"
            ]
          },
          "metadata": {},
          "execution_count": 29
        }
      ],
      "source": [
        "tf.keras.utils.plot_model(classifier_model)"
      ]
    },
    {
      "cell_type": "code",
      "execution_count": 30,
      "metadata": {
        "colab": {
          "base_uri": "https://localhost:8080/"
        },
        "id": "kVSARb8EVdZ1",
        "outputId": "32a66969-350b-4539-d98e-58366a48c1cc"
      },
      "outputs": [
        {
          "output_type": "stream",
          "name": "stdout",
          "text": [
            "Model: \"model_1\"\n",
            "__________________________________________________________________________________________________\n",
            " Layer (type)                   Output Shape         Param #     Connected to                     \n",
            "==================================================================================================\n",
            " text (InputLayer)              [(None,)]            0           []                               \n",
            "                                                                                                  \n",
            " preprocessing (KerasLayer)     {'input_mask': (Non  0           ['text[0][0]']                   \n",
            "                                e, 128),                                                          \n",
            "                                 'input_type_ids':                                                \n",
            "                                (None, 128),                                                      \n",
            "                                 'input_word_ids':                                                \n",
            "                                (None, 128)}                                                      \n",
            "                                                                                                  \n",
            " BERT_encoder (KerasLayer)      {'encoder_outputs':  4385921     ['preprocessing[0][0]',          \n",
            "                                 [(None, 128, 128),               'preprocessing[0][1]',          \n",
            "                                 (None, 128, 128)],               'preprocessing[0][2]']          \n",
            "                                 'pooled_output': (                                               \n",
            "                                None, 128),                                                       \n",
            "                                 'default': (None,                                                \n",
            "                                128),                                                             \n",
            "                                 'sequence_output':                                               \n",
            "                                 (None, 128, 128)}                                                \n",
            "                                                                                                  \n",
            " Dropout1 (Dropout)             (None, 128)          0           ['BERT_encoder[0][3]']           \n",
            "                                                                                                  \n",
            " Dense_1 (Dense)                (None, 64)           8256        ['Dropout1[0][0]']               \n",
            "                                                                                                  \n",
            " Dropout2 (Dropout)             (None, 64)           0           ['Dense_1[0][0]']                \n",
            "                                                                                                  \n",
            " Dense_2 (Dense)                (None, 32)           2080        ['Dropout2[0][0]']               \n",
            "                                                                                                  \n",
            " Dropout3 (Dropout)             (None, 32)           0           ['Dense_2[0][0]']                \n",
            "                                                                                                  \n",
            " classifier (Dense)             (None, 1)            33          ['Dropout3[0][0]']               \n",
            "                                                                                                  \n",
            "==================================================================================================\n",
            "Total params: 4,396,290\n",
            "Trainable params: 4,396,289\n",
            "Non-trainable params: 1\n",
            "__________________________________________________________________________________________________\n"
          ]
        }
      ],
      "source": [
        "classifier_model.summary()"
      ]
    },
    {
      "cell_type": "code",
      "execution_count": 32,
      "metadata": {
        "id": "8cr827iKm0wk"
      },
      "outputs": [],
      "source": [
        "classifier_model.compile(optimizer=\n",
        "                         'adam',\n",
        "                        #  optimizer,\n",
        "                         loss='binary_crossentropy',\n",
        "                         metrics='accuracy')"
      ]
    },
    {
      "cell_type": "code",
      "execution_count": 47,
      "metadata": {
        "colab": {
          "base_uri": "https://localhost:8080/"
        },
        "id": "wQZrw_1gm0qi",
        "outputId": "baaf0b68-6ff1-47e3-b3bf-05a2409aa4b4"
      },
      "outputs": [
        {
          "output_type": "stream",
          "name": "stdout",
          "text": [
            "2181/2181 [==============================] - 8793s 4s/step - loss: 0.4872 - accuracy: 0.7689 - val_loss: 0.4680 - val_accuracy: 0.7791\n"
          ]
        }
      ],
      "source": [
        "history = classifier_model.fit(x_train, y_train,\n",
        "                               validation_split=.1,\n",
        "                               batch_size=264,\n",
        "                               epochs=1)"
      ]
    },
    {
      "cell_type": "code",
      "execution_count": 48,
      "metadata": {
        "colab": {
          "base_uri": "https://localhost:8080/"
        },
        "id": "Lf1rZTA3YAfW",
        "outputId": "27a237da-f713-4c4b-fa06-8838d2e17c42"
      },
      "outputs": [
        {
          "output_type": "stream",
          "name": "stdout",
          "text": [
            "1939/1939 [==============================] - 7991s 4s/step - loss: 0.4542 - accuracy: 0.7877 - val_loss: 0.4573 - val_accuracy: 0.7840\n"
          ]
        }
      ],
      "source": [
        "history_1 = classifier_model.fit(x_train, y_train,\n",
        "                               validation_split=.2,\n",
        "                               batch_size=264,\n",
        "                               epochs=1)\n"
      ]
    },
    {
      "cell_type": "code",
      "source": [
        "history_2 = classifier_model.fit(x_train, y_train,\n",
        "                               validation_split=.2,\n",
        "                               batch_size=264,\n",
        "                               epochs=1)"
      ],
      "metadata": {
        "colab": {
          "base_uri": "https://localhost:8080/"
        },
        "id": "xOC8zmzYLU0n",
        "outputId": "7411f0b8-a7d8-44ce-c4cd-78fe14c6e4d3"
      },
      "execution_count": 68,
      "outputs": [
        {
          "output_type": "stream",
          "name": "stdout",
          "text": [
            "1939/1939 [==============================] - 7958s 4s/step - loss: 0.4607 - accuracy: 0.7842 - val_loss: 0.4470 - val_accuracy: 0.7899\n"
          ]
        }
      ]
    },
    {
      "cell_type": "code",
      "source": [
        "saved_model_path='/content/drive/MyDrive/MachineLearning/NLP/small_bert_128'\n"
      ],
      "metadata": {
        "id": "aDUOLiI9TEr6"
      },
      "execution_count": 80,
      "outputs": []
    },
    {
      "cell_type": "code",
      "source": [
        "from keras.models import load_model"
      ],
      "metadata": {
        "id": "f4fAlPDZ5pse"
      },
      "execution_count": 50,
      "outputs": []
    },
    {
      "cell_type": "code",
      "source": [
        "classifier_model.save(saved_model_path)"
      ],
      "metadata": {
        "colab": {
          "base_uri": "https://localhost:8080/"
        },
        "id": "mB7QFQef9hg0",
        "outputId": "756be9e9-7696-463e-c5bd-2f37d954ab70"
      },
      "execution_count": 81,
      "outputs": [
        {
          "output_type": "stream",
          "name": "stderr",
          "text": [
            "WARNING:absl:Found untraced functions such as restored_function_body, restored_function_body, restored_function_body, restored_function_body, restored_function_body while saving (showing 5 of 160). These functions will not be directly callable after loading.\n"
          ]
        },
        {
          "output_type": "stream",
          "name": "stdout",
          "text": [
            "INFO:tensorflow:Assets written to: /content/drive/MyDrive/MachineLearning/NLP/small_bert_128/assets\n"
          ]
        },
        {
          "output_type": "stream",
          "name": "stderr",
          "text": [
            "INFO:tensorflow:Assets written to: /content/drive/MyDrive/MachineLearning/NLP/small_bert_128/assets\n"
          ]
        }
      ]
    },
    {
      "cell_type": "code",
      "source": [
        "loaded_model=load_model(saved_model_path)\n"
      ],
      "metadata": {
        "id": "ikwMsyOL9zAu"
      },
      "execution_count": 52,
      "outputs": []
    },
    {
      "cell_type": "code",
      "execution_count": 70,
      "metadata": {
        "id": "5ISHZm8Ctxu4"
      },
      "outputs": [],
      "source": [
        "train_acc=history.history['accuracy']+history_1.history['accuracy']+history_2.history['accuracy']\n",
        "val_acc=history.history['val_accuracy']+history_1.history['val_accuracy']+history_2.history['val_accuracy']"
      ]
    },
    {
      "cell_type": "code",
      "execution_count": 71,
      "metadata": {
        "id": "hBtDp5b4txhE",
        "colab": {
          "base_uri": "https://localhost:8080/",
          "height": 295
        },
        "outputId": "da72bd0e-a60a-43a1-9737-d05558345c0d"
      },
      "outputs": [
        {
          "output_type": "display_data",
          "data": {
            "image/png": "[encoded data removed]",
            "text/plain": [
              "<Figure size 432x288 with 1 Axes>"
            ]
          },
          "metadata": {}
        }
      ],
      "source": [
        "plt.plot(train_acc,label='train acc')\n",
        "plt.plot(val_acc,label='val acc')\n",
        "plt.xlabel('epochs')\n",
        "plt.ylabel('acc')\n",
        "plt.legend(loc='lower right')\n",
        "plt.show();"
      ]
    },
    {
      "cell_type": "markdown",
      "metadata": {
        "id": "3ay-uSrLXSi0"
      },
      "source": [
        "#Score:"
      ]
    },
    {
      "cell_type": "code",
      "execution_count": 72,
      "metadata": {
        "id": "_lUMl5qTXSi1"
      },
      "outputs": [],
      "source": [
        "pred=loaded_model.predict(x_test)\n"
      ]
    },
    {
      "cell_type": "code",
      "execution_count": 73,
      "metadata": {
        "id": "XH8K7qufXSi2"
      },
      "outputs": [],
      "source": [
        "pred=pred.reshape(pred.shape[0])"
      ]
    },
    {
      "cell_type": "code",
      "execution_count": 74,
      "metadata": {
        "id": "CkT8NfuKXSi3"
      },
      "outputs": [],
      "source": [
        "def step(x):\n",
        "  if x>.5:\n",
        "    return 1\n",
        "  elif x<.5:\n",
        "    return 0"
      ]
    },
    {
      "cell_type": "code",
      "execution_count": 75,
      "metadata": {
        "id": "gOuBqjziXSi3"
      },
      "outputs": [],
      "source": [
        "y_pred=list(map(step, pred))\n"
      ]
    },
    {
      "cell_type": "code",
      "execution_count": 76,
      "metadata": {
        "colab": {
          "base_uri": "https://localhost:8080/"
        },
        "id": "wA26-8cHXSi4",
        "outputId": "9af51374-4291-47b9-d88f-f6160c283db3"
      },
      "outputs": [
        {
          "output_type": "execute_result",
          "data": {
            "text/plain": [
              "{0, 1}"
            ]
          },
          "metadata": {},
          "execution_count": 76
        }
      ],
      "source": [
        "set(y_pred)"
      ]
    },
    {
      "cell_type": "code",
      "execution_count": 60,
      "metadata": {
        "colab": {
          "base_uri": "https://localhost:8080/"
        },
        "id": "XD3NhEpdXSi5",
        "outputId": "079d768d-ed7d-45a0-f92f-e02a9c98231b"
      },
      "outputs": [
        {
          "output_type": "execute_result",
          "data": {
            "text/plain": [
              "array(['negative'], dtype=object)"
            ]
          },
          "metadata": {},
          "execution_count": 60
        }
      ],
      "source": [
        "le.inverse_transform(np.array([0]))"
      ]
    },
    {
      "cell_type": "code",
      "source": [
        "from sklearn.metrics import confusion_matrix\n",
        "cm=confusion_matrix(y_test, y_pred, normalize='true')\n",
        "\n",
        "ax = plt.axes()\n",
        "font={\"size\": 16, \"family\":'serif'}\n",
        "ax.set_title('BERT',fontdict=font)\n",
        "\n",
        "sn.set(font_scale=1.4)\n",
        "ax=sn.heatmap(cm, annot=True, fmt='2.2f',\n",
        "            yticklabels=[ 'neg','pos'] ,\n",
        "           xticklabels=[ 'neg','pos'] ,\n",
        "           cmap='YlGnBu',ax=ax\n",
        "           ,annot_kws={\"size\": 12, \"family\":'serif'}, \n",
        "           );"
      ],
      "metadata": {
        "colab": {
          "base_uri": "https://localhost:8080/",
          "height": 292
        },
        "id": "kSXzFR6WHUEq",
        "outputId": "0c431da6-ac2b-4e92-db1c-dbef2288cfcd"
      },
      "execution_count": 78,
      "outputs": [
        {
          "output_type": "display_data",
          "data": {
            "image/png": "[encoded data removed]",
            "text/plain": [
              "<Figure size 432x288 with 2 Axes>"
            ]
          },
          "metadata": {}
        }
      ]
    },
    {
      "cell_type": "code",
      "execution_count": 64,
      "metadata": {
        "id": "UXbOCc1hXSi7"
      },
      "outputs": [],
      "source": [
        "from sklearn.metrics import accuracy_score"
      ]
    },
    {
      "cell_type": "code",
      "source": [
        "accuracy_score(y_test, y_pred)"
      ],
      "metadata": {
        "colab": {
          "base_uri": "https://localhost:8080/"
        },
        "id": "Sd4dbmjwK5zo",
        "outputId": "e8ff194d-e166-4d40-abe9-cb34eee911a7"
      },
      "execution_count": 79,
      "outputs": [
        {
          "output_type": "execute_result",
          "data": {
            "text/plain": [
              "0.7889516996423123"
            ]
          },
          "metadata": {},
          "execution_count": 79
        }
      ]
    },
    {
      "cell_type": "code",
      "source": [
        ""
      ],
      "metadata": {
        "id": "G2PklDKTfncy"
      },
      "execution_count": null,
      "outputs": []
    }
  ],
  "metadata": {
    "colab": {
      "collapsed_sections": [
        "qegJFyRQVAy8",
        "MMA6t9t-5rFA",
        "plbGOqPw9Sk7",
        "Ys4XJD4J8VWh",
        "-nnuz7Vkpqrw",
        "B6W4s92dC3Oi"
      ],
      "name": "Tweet Sentiment_BERT.ipynb",
      "provenance": [],
      "mount_file_id": "1lRa8NF1hNI0QghsfrNeBOtGBIP44PIt3",
      "authorship_tag": "ABX9TyPbmrwIGGnmJg6faszyq9DO",
      "include_colab_link": true
    },
    "kernelspec": {
      "display_name": "Python 3",
      "name": "python3"
    },
    "language_info": {
      "name": "python"
    }
  },
  "nbformat": 4,
  "nbformat_minor": 0
}